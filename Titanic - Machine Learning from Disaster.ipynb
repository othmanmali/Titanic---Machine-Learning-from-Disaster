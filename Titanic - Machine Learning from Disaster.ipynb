{
 "cells": [
  {
   "cell_type": "code",
   "execution_count": 1,
   "id": "5d3a9fd8",
   "metadata": {
    "_cell_guid": "b1076dfc-b9ad-4769-8c92-a6c4dae69d19",
    "_uuid": "8f2839f25d086af736a60e9eeb907d3b93b6e0e5",
    "execution": {
     "iopub.execute_input": "2021-09-27T23:48:43.822738Z",
     "iopub.status.busy": "2021-09-27T23:48:43.821579Z",
     "iopub.status.idle": "2021-09-27T23:48:44.730213Z",
     "shell.execute_reply": "2021-09-27T23:48:44.730833Z",
     "shell.execute_reply.started": "2021-09-27T23:34:36.546357Z"
    },
    "papermill": {
     "duration": 0.960151,
     "end_time": "2021-09-27T23:48:44.731133",
     "exception": false,
     "start_time": "2021-09-27T23:48:43.770982",
     "status": "completed"
    },
    "tags": []
   },
   "outputs": [],
   "source": [
    "import numpy as np\n",
    "import pandas as pd\n",
    "from sklearn import preprocessing\n",
    "\n",
    "import matplotlib.pyplot as plt\n",
    "plt.rc('font', size=14)\n",
    "\n",
    "import seaborn as sns\n",
    "sns.set(style='white') #white background style for seaborn plots\n",
    "sns.set(style='whitegrid', color_codes=True)"
   ]
  },
  {
   "cell_type": "code",
   "execution_count": 2,
   "id": "b67d28dd",
   "metadata": {
    "execution": {
     "iopub.execute_input": "2021-09-27T23:48:44.827013Z",
     "iopub.status.busy": "2021-09-27T23:48:44.826363Z",
     "iopub.status.idle": "2021-09-27T23:48:44.877780Z",
     "shell.execute_reply": "2021-09-27T23:48:44.877131Z",
     "shell.execute_reply.started": "2021-09-27T23:34:36.691065Z"
    },
    "papermill": {
     "duration": 0.100994,
     "end_time": "2021-09-27T23:48:44.877929",
     "exception": false,
     "start_time": "2021-09-27T23:48:44.776935",
     "status": "completed"
    },
    "tags": []
   },
   "outputs": [
    {
     "data": {
      "text/html": [
       "<div>\n",
       "<style scoped>\n",
       "    .dataframe tbody tr th:only-of-type {\n",
       "        vertical-align: middle;\n",
       "    }\n",
       "\n",
       "    .dataframe tbody tr th {\n",
       "        vertical-align: top;\n",
       "    }\n",
       "\n",
       "    .dataframe thead th {\n",
       "        text-align: right;\n",
       "    }\n",
       "</style>\n",
       "<table border=\"1\" class=\"dataframe\">\n",
       "  <thead>\n",
       "    <tr style=\"text-align: right;\">\n",
       "      <th></th>\n",
       "      <th>PassengerId</th>\n",
       "      <th>Survived</th>\n",
       "      <th>Pclass</th>\n",
       "      <th>Name</th>\n",
       "      <th>Sex</th>\n",
       "      <th>Age</th>\n",
       "      <th>SibSp</th>\n",
       "      <th>Parch</th>\n",
       "      <th>Ticket</th>\n",
       "      <th>Fare</th>\n",
       "      <th>Cabin</th>\n",
       "      <th>Embarked</th>\n",
       "    </tr>\n",
       "  </thead>\n",
       "  <tbody>\n",
       "    <tr>\n",
       "      <th>0</th>\n",
       "      <td>1</td>\n",
       "      <td>0</td>\n",
       "      <td>3</td>\n",
       "      <td>Braund, Mr. Owen Harris</td>\n",
       "      <td>male</td>\n",
       "      <td>22.0</td>\n",
       "      <td>1</td>\n",
       "      <td>0</td>\n",
       "      <td>A/5 21171</td>\n",
       "      <td>7.2500</td>\n",
       "      <td>NaN</td>\n",
       "      <td>S</td>\n",
       "    </tr>\n",
       "    <tr>\n",
       "      <th>1</th>\n",
       "      <td>2</td>\n",
       "      <td>1</td>\n",
       "      <td>1</td>\n",
       "      <td>Cumings, Mrs. John Bradley (Florence Briggs Th...</td>\n",
       "      <td>female</td>\n",
       "      <td>38.0</td>\n",
       "      <td>1</td>\n",
       "      <td>0</td>\n",
       "      <td>PC 17599</td>\n",
       "      <td>71.2833</td>\n",
       "      <td>C85</td>\n",
       "      <td>C</td>\n",
       "    </tr>\n",
       "    <tr>\n",
       "      <th>2</th>\n",
       "      <td>3</td>\n",
       "      <td>1</td>\n",
       "      <td>3</td>\n",
       "      <td>Heikkinen, Miss. Laina</td>\n",
       "      <td>female</td>\n",
       "      <td>26.0</td>\n",
       "      <td>0</td>\n",
       "      <td>0</td>\n",
       "      <td>STON/O2. 3101282</td>\n",
       "      <td>7.9250</td>\n",
       "      <td>NaN</td>\n",
       "      <td>S</td>\n",
       "    </tr>\n",
       "    <tr>\n",
       "      <th>3</th>\n",
       "      <td>4</td>\n",
       "      <td>1</td>\n",
       "      <td>1</td>\n",
       "      <td>Futrelle, Mrs. Jacques Heath (Lily May Peel)</td>\n",
       "      <td>female</td>\n",
       "      <td>35.0</td>\n",
       "      <td>1</td>\n",
       "      <td>0</td>\n",
       "      <td>113803</td>\n",
       "      <td>53.1000</td>\n",
       "      <td>C123</td>\n",
       "      <td>S</td>\n",
       "    </tr>\n",
       "    <tr>\n",
       "      <th>4</th>\n",
       "      <td>5</td>\n",
       "      <td>0</td>\n",
       "      <td>3</td>\n",
       "      <td>Allen, Mr. William Henry</td>\n",
       "      <td>male</td>\n",
       "      <td>35.0</td>\n",
       "      <td>0</td>\n",
       "      <td>0</td>\n",
       "      <td>373450</td>\n",
       "      <td>8.0500</td>\n",
       "      <td>NaN</td>\n",
       "      <td>S</td>\n",
       "    </tr>\n",
       "  </tbody>\n",
       "</table>\n",
       "</div>"
      ],
      "text/plain": [
       "   PassengerId  Survived  Pclass  \\\n",
       "0            1         0       3   \n",
       "1            2         1       1   \n",
       "2            3         1       3   \n",
       "3            4         1       1   \n",
       "4            5         0       3   \n",
       "\n",
       "                                                Name     Sex   Age  SibSp  \\\n",
       "0                            Braund, Mr. Owen Harris    male  22.0      1   \n",
       "1  Cumings, Mrs. John Bradley (Florence Briggs Th...  female  38.0      1   \n",
       "2                             Heikkinen, Miss. Laina  female  26.0      0   \n",
       "3       Futrelle, Mrs. Jacques Heath (Lily May Peel)  female  35.0      1   \n",
       "4                           Allen, Mr. William Henry    male  35.0      0   \n",
       "\n",
       "   Parch            Ticket     Fare Cabin Embarked  \n",
       "0      0         A/5 21171   7.2500   NaN        S  \n",
       "1      0          PC 17599  71.2833   C85        C  \n",
       "2      0  STON/O2. 3101282   7.9250   NaN        S  \n",
       "3      0            113803  53.1000  C123        S  \n",
       "4      0            373450   8.0500   NaN        S  "
      ]
     },
     "execution_count": 2,
     "metadata": {},
     "output_type": "execute_result"
    }
   ],
   "source": [
    "# get titanic & test csv files as a DataFrame (df)\n",
    "\n",
    "titanic_df = pd.read_csv(\"../input/titanic/train.csv\")\n",
    "\n",
    "#cross validation data (hold-out testing)\n",
    "test_df = pd.read_csv(\"../input/titanic/test.csv\")\n",
    "\n",
    "\n",
    "titanic_df.head()"
   ]
  },
  {
   "cell_type": "code",
   "execution_count": 3,
   "id": "b1759be9",
   "metadata": {
    "execution": {
     "iopub.execute_input": "2021-09-27T23:48:44.975383Z",
     "iopub.status.busy": "2021-09-27T23:48:44.974767Z",
     "iopub.status.idle": "2021-09-27T23:48:44.993343Z",
     "shell.execute_reply": "2021-09-27T23:48:44.993898Z",
     "shell.execute_reply.started": "2021-09-27T23:34:36.742041Z"
    },
    "papermill": {
     "duration": 0.068142,
     "end_time": "2021-09-27T23:48:44.994080",
     "exception": false,
     "start_time": "2021-09-27T23:48:44.925938",
     "status": "completed"
    },
    "tags": []
   },
   "outputs": [
    {
     "data": {
      "text/html": [
       "<div>\n",
       "<style scoped>\n",
       "    .dataframe tbody tr th:only-of-type {\n",
       "        vertical-align: middle;\n",
       "    }\n",
       "\n",
       "    .dataframe tbody tr th {\n",
       "        vertical-align: top;\n",
       "    }\n",
       "\n",
       "    .dataframe thead th {\n",
       "        text-align: right;\n",
       "    }\n",
       "</style>\n",
       "<table border=\"1\" class=\"dataframe\">\n",
       "  <thead>\n",
       "    <tr style=\"text-align: right;\">\n",
       "      <th></th>\n",
       "      <th>Survived</th>\n",
       "      <th>Pclass</th>\n",
       "      <th>Name</th>\n",
       "      <th>Sex</th>\n",
       "      <th>Age</th>\n",
       "      <th>SibSp</th>\n",
       "      <th>Parch</th>\n",
       "      <th>Ticket</th>\n",
       "      <th>Fare</th>\n",
       "      <th>Cabin</th>\n",
       "      <th>Embarked</th>\n",
       "    </tr>\n",
       "    <tr>\n",
       "      <th>PassengerId</th>\n",
       "      <th></th>\n",
       "      <th></th>\n",
       "      <th></th>\n",
       "      <th></th>\n",
       "      <th></th>\n",
       "      <th></th>\n",
       "      <th></th>\n",
       "      <th></th>\n",
       "      <th></th>\n",
       "      <th></th>\n",
       "      <th></th>\n",
       "    </tr>\n",
       "  </thead>\n",
       "  <tbody>\n",
       "    <tr>\n",
       "      <th>1</th>\n",
       "      <td>0</td>\n",
       "      <td>3</td>\n",
       "      <td>Braund, Mr. Owen Harris</td>\n",
       "      <td>male</td>\n",
       "      <td>22.0</td>\n",
       "      <td>1</td>\n",
       "      <td>0</td>\n",
       "      <td>A/5 21171</td>\n",
       "      <td>7.2500</td>\n",
       "      <td>NaN</td>\n",
       "      <td>S</td>\n",
       "    </tr>\n",
       "    <tr>\n",
       "      <th>2</th>\n",
       "      <td>1</td>\n",
       "      <td>1</td>\n",
       "      <td>Cumings, Mrs. John Bradley (Florence Briggs Th...</td>\n",
       "      <td>female</td>\n",
       "      <td>38.0</td>\n",
       "      <td>1</td>\n",
       "      <td>0</td>\n",
       "      <td>PC 17599</td>\n",
       "      <td>71.2833</td>\n",
       "      <td>C85</td>\n",
       "      <td>C</td>\n",
       "    </tr>\n",
       "    <tr>\n",
       "      <th>3</th>\n",
       "      <td>1</td>\n",
       "      <td>3</td>\n",
       "      <td>Heikkinen, Miss. Laina</td>\n",
       "      <td>female</td>\n",
       "      <td>26.0</td>\n",
       "      <td>0</td>\n",
       "      <td>0</td>\n",
       "      <td>STON/O2. 3101282</td>\n",
       "      <td>7.9250</td>\n",
       "      <td>NaN</td>\n",
       "      <td>S</td>\n",
       "    </tr>\n",
       "    <tr>\n",
       "      <th>4</th>\n",
       "      <td>1</td>\n",
       "      <td>1</td>\n",
       "      <td>Futrelle, Mrs. Jacques Heath (Lily May Peel)</td>\n",
       "      <td>female</td>\n",
       "      <td>35.0</td>\n",
       "      <td>1</td>\n",
       "      <td>0</td>\n",
       "      <td>113803</td>\n",
       "      <td>53.1000</td>\n",
       "      <td>C123</td>\n",
       "      <td>S</td>\n",
       "    </tr>\n",
       "    <tr>\n",
       "      <th>5</th>\n",
       "      <td>0</td>\n",
       "      <td>3</td>\n",
       "      <td>Allen, Mr. William Henry</td>\n",
       "      <td>male</td>\n",
       "      <td>35.0</td>\n",
       "      <td>0</td>\n",
       "      <td>0</td>\n",
       "      <td>373450</td>\n",
       "      <td>8.0500</td>\n",
       "      <td>NaN</td>\n",
       "      <td>S</td>\n",
       "    </tr>\n",
       "  </tbody>\n",
       "</table>\n",
       "</div>"
      ],
      "text/plain": [
       "             Survived  Pclass  \\\n",
       "PassengerId                     \n",
       "1                   0       3   \n",
       "2                   1       1   \n",
       "3                   1       3   \n",
       "4                   1       1   \n",
       "5                   0       3   \n",
       "\n",
       "                                                          Name     Sex   Age  \\\n",
       "PassengerId                                                                    \n",
       "1                                      Braund, Mr. Owen Harris    male  22.0   \n",
       "2            Cumings, Mrs. John Bradley (Florence Briggs Th...  female  38.0   \n",
       "3                                       Heikkinen, Miss. Laina  female  26.0   \n",
       "4                 Futrelle, Mrs. Jacques Heath (Lily May Peel)  female  35.0   \n",
       "5                                     Allen, Mr. William Henry    male  35.0   \n",
       "\n",
       "             SibSp  Parch            Ticket     Fare Cabin Embarked  \n",
       "PassengerId                                                          \n",
       "1                1      0         A/5 21171   7.2500   NaN        S  \n",
       "2                1      0          PC 17599  71.2833   C85        C  \n",
       "3                0      0  STON/O2. 3101282   7.9250   NaN        S  \n",
       "4                1      0            113803  53.1000  C123        S  \n",
       "5                0      0            373450   8.0500   NaN        S  "
      ]
     },
     "execution_count": 3,
     "metadata": {},
     "output_type": "execute_result"
    }
   ],
   "source": [
    "#set passengerid to be the index col\n",
    "titanic_df.set_index(['PassengerId'], inplace=True)\n",
    "titanic_df.head()"
   ]
  },
  {
   "cell_type": "markdown",
   "id": "9d6532d7",
   "metadata": {
    "papermill": {
     "duration": 0.045911,
     "end_time": "2021-09-27T23:48:45.086738",
     "exception": false,
     "start_time": "2021-09-27T23:48:45.040827",
     "status": "completed"
    },
    "tags": []
   },
   "source": [
    "# **2.Data Quality and Missing Values**"
   ]
  },
  {
   "cell_type": "code",
   "execution_count": 4,
   "id": "f7016ac3",
   "metadata": {
    "execution": {
     "iopub.execute_input": "2021-09-27T23:48:45.190844Z",
     "iopub.status.busy": "2021-09-27T23:48:45.189933Z",
     "iopub.status.idle": "2021-09-27T23:48:45.202133Z",
     "shell.execute_reply": "2021-09-27T23:48:45.202646Z",
     "shell.execute_reply.started": "2021-09-27T23:34:36.767858Z"
    },
    "papermill": {
     "duration": 0.06838,
     "end_time": "2021-09-27T23:48:45.202839",
     "exception": false,
     "start_time": "2021-09-27T23:48:45.134459",
     "status": "completed"
    },
    "tags": []
   },
   "outputs": [
    {
     "data": {
      "text/plain": [
       "Survived      0\n",
       "Pclass        0\n",
       "Name          0\n",
       "Sex           0\n",
       "Age         177\n",
       "SibSp         0\n",
       "Parch         0\n",
       "Ticket        0\n",
       "Fare          0\n",
       "Cabin       687\n",
       "Embarked      2\n",
       "dtype: int64"
      ]
     },
     "execution_count": 4,
     "metadata": {},
     "output_type": "execute_result"
    }
   ],
   "source": [
    "titanic_df.isnull().sum()"
   ]
  },
  {
   "cell_type": "markdown",
   "id": "c01dd2a1",
   "metadata": {
    "papermill": {
     "duration": 0.051842,
     "end_time": "2021-09-27T23:48:45.314969",
     "exception": false,
     "start_time": "2021-09-27T23:48:45.263127",
     "status": "completed"
    },
    "tags": []
   },
   "source": [
    "### **2.1 Age: Missing values**"
   ]
  },
  {
   "cell_type": "code",
   "execution_count": 5,
   "id": "673fcd6e",
   "metadata": {
    "execution": {
     "iopub.execute_input": "2021-09-27T23:48:45.413934Z",
     "iopub.status.busy": "2021-09-27T23:48:45.413217Z",
     "iopub.status.idle": "2021-09-27T23:48:45.416036Z",
     "shell.execute_reply": "2021-09-27T23:48:45.416781Z",
     "shell.execute_reply.started": "2021-09-27T23:34:36.780093Z"
    },
    "papermill": {
     "duration": 0.055596,
     "end_time": "2021-09-27T23:48:45.416997",
     "exception": false,
     "start_time": "2021-09-27T23:48:45.361401",
     "status": "completed"
    },
    "tags": []
   },
   "outputs": [
    {
     "name": "stdout",
     "output_type": "stream",
     "text": [
      "Portion of missing age =  20 %\n"
     ]
    }
   ],
   "source": [
    "print('Portion of missing age = ', round((177/titanic_df.shape[0])*100), '%')"
   ]
  },
  {
   "cell_type": "code",
   "execution_count": 6,
   "id": "25776f43",
   "metadata": {
    "execution": {
     "iopub.execute_input": "2021-09-27T23:48:45.518620Z",
     "iopub.status.busy": "2021-09-27T23:48:45.517964Z",
     "iopub.status.idle": "2021-09-27T23:48:45.851305Z",
     "shell.execute_reply": "2021-09-27T23:48:45.850797Z",
     "shell.execute_reply.started": "2021-09-27T23:34:36.790836Z"
    },
    "papermill": {
     "duration": 0.383726,
     "end_time": "2021-09-27T23:48:45.851467",
     "exception": false,
     "start_time": "2021-09-27T23:48:45.467741",
     "status": "completed"
    },
    "tags": []
   },
   "outputs": [
    {
     "name": "stderr",
     "output_type": "stream",
     "text": [
      "/opt/conda/lib/python3.7/site-packages/seaborn/distributions.py:2619: FutureWarning: `distplot` is a deprecated function and will be removed in a future version. Please adapt your code to use either `displot` (a figure-level function with similar flexibility) or `histplot` (an axes-level function for histograms).\n",
      "  warnings.warn(msg, FutureWarning)\n"
     ]
    },
    {
     "data": {
      "image/png": "[encoded data removed]",
      "text/plain": [
       "<Figure size 432x288 with 1 Axes>"
      ]
     },
     "metadata": {},
     "output_type": "display_data"
    }
   ],
   "source": [
    "ax = sns.distplot(titanic_df['Age'], kde=False, color='teal')\n",
    "ax.set(ylabel='Count', xlabel='Age', title='Age Data')\n",
    "plt.show()"
   ]
  },
  {
   "cell_type": "code",
   "execution_count": 7,
   "id": "380e3daa",
   "metadata": {
    "execution": {
     "iopub.execute_input": "2021-09-27T23:48:45.953902Z",
     "iopub.status.busy": "2021-09-27T23:48:45.953188Z",
     "iopub.status.idle": "2021-09-27T23:48:45.955946Z",
     "shell.execute_reply": "2021-09-27T23:48:45.956425Z",
     "shell.execute_reply.started": "2021-09-27T23:34:37.078830Z"
    },
    "papermill": {
     "duration": 0.056408,
     "end_time": "2021-09-27T23:48:45.956586",
     "exception": false,
     "start_time": "2021-09-27T23:48:45.900178",
     "status": "completed"
    },
    "tags": []
   },
   "outputs": [
    {
     "data": {
      "text/plain": [
       "28.0"
      ]
     },
     "execution_count": 7,
     "metadata": {},
     "output_type": "execute_result"
    }
   ],
   "source": [
    "#as Age is right skewed , impute it with median\n",
    "titanic_df['Age'].median()"
   ]
  },
  {
   "cell_type": "markdown",
   "id": "770f1e69",
   "metadata": {
    "papermill": {
     "duration": 0.047785,
     "end_time": "2021-09-27T23:48:46.052312",
     "exception": false,
     "start_time": "2021-09-27T23:48:46.004527",
     "status": "completed"
    },
    "tags": []
   },
   "source": [
    "28 year is the median of Age"
   ]
  },
  {
   "cell_type": "markdown",
   "id": "1564cbfd",
   "metadata": {
    "papermill": {
     "duration": 0.048722,
     "end_time": "2021-09-27T23:48:46.148830",
     "exception": false,
     "start_time": "2021-09-27T23:48:46.100108",
     "status": "completed"
    },
    "tags": []
   },
   "source": [
    "### **2.2 Cabin: Missing values**"
   ]
  },
  {
   "cell_type": "code",
   "execution_count": 8,
   "id": "932c2cb5",
   "metadata": {
    "execution": {
     "iopub.execute_input": "2021-09-27T23:48:46.250514Z",
     "iopub.status.busy": "2021-09-27T23:48:46.248896Z",
     "iopub.status.idle": "2021-09-27T23:48:46.254178Z",
     "shell.execute_reply": "2021-09-27T23:48:46.254659Z",
     "shell.execute_reply.started": "2021-09-27T23:34:37.087960Z"
    },
    "papermill": {
     "duration": 0.057457,
     "end_time": "2021-09-27T23:48:46.254826",
     "exception": false,
     "start_time": "2021-09-27T23:48:46.197369",
     "status": "completed"
    },
    "tags": []
   },
   "outputs": [
    {
     "name": "stdout",
     "output_type": "stream",
     "text": [
      "Cabin portion of missing data 77 %\n"
     ]
    }
   ],
   "source": [
    "print('Cabin portion of missing data', round((687/titanic_df.shape[0])*100), '%')\n",
    "#drop it"
   ]
  },
  {
   "cell_type": "markdown",
   "id": "a96a0dc1",
   "metadata": {
    "papermill": {
     "duration": 0.048116,
     "end_time": "2021-09-27T23:48:46.351394",
     "exception": false,
     "start_time": "2021-09-27T23:48:46.303278",
     "status": "completed"
    },
    "tags": []
   },
   "source": [
    "### **2.3 Embarked: Missing values**"
   ]
  },
  {
   "cell_type": "code",
   "execution_count": 9,
   "id": "b2c5b3cb",
   "metadata": {
    "execution": {
     "iopub.execute_input": "2021-09-27T23:48:46.452872Z",
     "iopub.status.busy": "2021-09-27T23:48:46.452188Z",
     "iopub.status.idle": "2021-09-27T23:48:46.456523Z",
     "shell.execute_reply": "2021-09-27T23:48:46.456027Z",
     "shell.execute_reply.started": "2021-09-27T23:34:37.098849Z"
    },
    "papermill": {
     "duration": 0.057035,
     "end_time": "2021-09-27T23:48:46.456680",
     "exception": false,
     "start_time": "2021-09-27T23:48:46.399645",
     "status": "completed"
    },
    "tags": []
   },
   "outputs": [
    {
     "name": "stdout",
     "output_type": "stream",
     "text": [
      "Embarked portion of missing values  0.22446689113355783 %\n"
     ]
    }
   ],
   "source": [
    "print('Embarked portion of missing values ', (2/titanic_df.shape[0])*100, '%')\n",
    "#0.2% , impute ==> Note it's Categorical Data"
   ]
  },
  {
   "cell_type": "code",
   "execution_count": 10,
   "id": "344810c3",
   "metadata": {
    "execution": {
     "iopub.execute_input": "2021-09-27T23:48:46.597069Z",
     "iopub.status.busy": "2021-09-27T23:48:46.585836Z",
     "iopub.status.idle": "2021-09-27T23:48:46.778710Z",
     "shell.execute_reply": "2021-09-27T23:48:46.777778Z",
     "shell.execute_reply.started": "2021-09-27T23:34:37.112560Z"
    },
    "papermill": {
     "duration": 0.273343,
     "end_time": "2021-09-27T23:48:46.778859",
     "exception": false,
     "start_time": "2021-09-27T23:48:46.505516",
     "status": "completed"
    },
    "tags": []
   },
   "outputs": [
    {
     "data": {
      "image/png": "[encoded data removed]",
      "text/plain": [
       "<Figure size 432x288 with 1 Axes>"
      ]
     },
     "metadata": {},
     "output_type": "display_data"
    }
   ],
   "source": [
    "ax = sns.countplot(x= titanic_df['Embarked'])\n",
    "#so we should impute missing data in embarked with 'S'"
   ]
  },
  {
   "cell_type": "markdown",
   "id": "d606c620",
   "metadata": {
    "papermill": {
     "duration": 0.049453,
     "end_time": "2021-09-27T23:48:46.878032",
     "exception": false,
     "start_time": "2021-09-27T23:48:46.828579",
     "status": "completed"
    },
    "tags": []
   },
   "source": [
    "### **2.4 Final Adjustments to Data (Train & Test)** "
   ]
  },
  {
   "cell_type": "code",
   "execution_count": 11,
   "id": "e5cd0a45",
   "metadata": {
    "execution": {
     "iopub.execute_input": "2021-09-27T23:48:46.988260Z",
     "iopub.status.busy": "2021-09-27T23:48:46.981947Z",
     "iopub.status.idle": "2021-09-27T23:48:46.990686Z",
     "shell.execute_reply": "2021-09-27T23:48:46.991136Z",
     "shell.execute_reply.started": "2021-09-27T23:34:37.326985Z"
    },
    "papermill": {
     "duration": 0.063304,
     "end_time": "2021-09-27T23:48:46.991305",
     "exception": false,
     "start_time": "2021-09-27T23:48:46.928001",
     "status": "completed"
    },
    "tags": []
   },
   "outputs": [],
   "source": [
    "train_data = titanic_df\n",
    "train_data['Age'].fillna(28, inplace=True)\n",
    "train_data['Embarked'].fillna('S', inplace=True)\n",
    "train_data.drop('Cabin', axis=1, inplace=True)"
   ]
  },
  {
   "cell_type": "markdown",
   "id": "8c116c30",
   "metadata": {
    "papermill": {
     "duration": 0.049387,
     "end_time": "2021-09-27T23:48:47.091512",
     "exception": false,
     "start_time": "2021-09-27T23:48:47.042125",
     "status": "completed"
    },
    "tags": []
   },
   "source": [
    "#### **2.4.1 Final Adjustments to Data (Train & Test)** "
   ]
  },
  {
   "cell_type": "markdown",
   "id": "c001cacd",
   "metadata": {
    "papermill": {
     "duration": 0.050215,
     "end_time": "2021-09-27T23:48:47.192143",
     "exception": false,
     "start_time": "2021-09-27T23:48:47.141928",
     "status": "completed"
    },
    "tags": []
   },
   "source": [
    "both SibSp and Parch relate to traveling with family.\n",
    "we can combine them together in one variable (feature)"
   ]
  },
  {
   "cell_type": "code",
   "execution_count": 12,
   "id": "274295aa",
   "metadata": {
    "execution": {
     "iopub.execute_input": "2021-09-27T23:48:47.295924Z",
     "iopub.status.busy": "2021-09-27T23:48:47.295271Z",
     "iopub.status.idle": "2021-09-27T23:48:47.301081Z",
     "shell.execute_reply": "2021-09-27T23:48:47.301638Z",
     "shell.execute_reply.started": "2021-09-27T23:34:37.338547Z"
    },
    "papermill": {
     "duration": 0.05939,
     "end_time": "2021-09-27T23:48:47.301804",
     "exception": false,
     "start_time": "2021-09-27T23:48:47.242414",
     "status": "completed"
    },
    "tags": []
   },
   "outputs": [],
   "source": [
    "train_data['Family'] = train_data['SibSp'] + train_data['Parch']\n",
    "train_data['TravelAlone'] = np.where(train_data['Family']>0, 0,1)"
   ]
  },
  {
   "cell_type": "code",
   "execution_count": 13,
   "id": "b5b826be",
   "metadata": {
    "execution": {
     "iopub.execute_input": "2021-09-27T23:48:47.411313Z",
     "iopub.status.busy": "2021-09-27T23:48:47.408078Z",
     "iopub.status.idle": "2021-09-27T23:48:47.414229Z",
     "shell.execute_reply": "2021-09-27T23:48:47.413726Z",
     "shell.execute_reply.started": "2021-09-27T23:34:37.349995Z"
    },
    "papermill": {
     "duration": 0.063373,
     "end_time": "2021-09-27T23:48:47.414369",
     "exception": false,
     "start_time": "2021-09-27T23:48:47.350996",
     "status": "completed"
    },
    "tags": []
   },
   "outputs": [],
   "source": [
    "#drop the combined columns\n",
    "train_data.drop('SibSp', axis=1, inplace=True)\n",
    "train_data.drop('Parch', axis=1, inplace=True)\n",
    "train_data.drop('Family', axis=1, inplace=True)"
   ]
  },
  {
   "cell_type": "code",
   "execution_count": 14,
   "id": "32064654",
   "metadata": {
    "execution": {
     "iopub.execute_input": "2021-09-27T23:48:47.529057Z",
     "iopub.status.busy": "2021-09-27T23:48:47.528394Z",
     "iopub.status.idle": "2021-09-27T23:48:47.533210Z",
     "shell.execute_reply": "2021-09-27T23:48:47.533669Z",
     "shell.execute_reply.started": "2021-09-27T23:34:37.364385Z"
    },
    "papermill": {
     "duration": 0.069522,
     "end_time": "2021-09-27T23:48:47.533841",
     "exception": false,
     "start_time": "2021-09-27T23:48:47.464319",
     "status": "completed"
    },
    "tags": []
   },
   "outputs": [
    {
     "data": {
      "text/html": [
       "<div>\n",
       "<style scoped>\n",
       "    .dataframe tbody tr th:only-of-type {\n",
       "        vertical-align: middle;\n",
       "    }\n",
       "\n",
       "    .dataframe tbody tr th {\n",
       "        vertical-align: top;\n",
       "    }\n",
       "\n",
       "    .dataframe thead th {\n",
       "        text-align: right;\n",
       "    }\n",
       "</style>\n",
       "<table border=\"1\" class=\"dataframe\">\n",
       "  <thead>\n",
       "    <tr style=\"text-align: right;\">\n",
       "      <th></th>\n",
       "      <th>Survived</th>\n",
       "      <th>Pclass</th>\n",
       "      <th>Name</th>\n",
       "      <th>Sex</th>\n",
       "      <th>Age</th>\n",
       "      <th>Ticket</th>\n",
       "      <th>Fare</th>\n",
       "      <th>Embarked</th>\n",
       "      <th>TravelAlone</th>\n",
       "    </tr>\n",
       "    <tr>\n",
       "      <th>PassengerId</th>\n",
       "      <th></th>\n",
       "      <th></th>\n",
       "      <th></th>\n",
       "      <th></th>\n",
       "      <th></th>\n",
       "      <th></th>\n",
       "      <th></th>\n",
       "      <th></th>\n",
       "      <th></th>\n",
       "    </tr>\n",
       "  </thead>\n",
       "  <tbody>\n",
       "    <tr>\n",
       "      <th>1</th>\n",
       "      <td>0</td>\n",
       "      <td>3</td>\n",
       "      <td>Braund, Mr. Owen Harris</td>\n",
       "      <td>male</td>\n",
       "      <td>22.0</td>\n",
       "      <td>A/5 21171</td>\n",
       "      <td>7.2500</td>\n",
       "      <td>S</td>\n",
       "      <td>0</td>\n",
       "    </tr>\n",
       "    <tr>\n",
       "      <th>2</th>\n",
       "      <td>1</td>\n",
       "      <td>1</td>\n",
       "      <td>Cumings, Mrs. John Bradley (Florence Briggs Th...</td>\n",
       "      <td>female</td>\n",
       "      <td>38.0</td>\n",
       "      <td>PC 17599</td>\n",
       "      <td>71.2833</td>\n",
       "      <td>C</td>\n",
       "      <td>0</td>\n",
       "    </tr>\n",
       "    <tr>\n",
       "      <th>3</th>\n",
       "      <td>1</td>\n",
       "      <td>3</td>\n",
       "      <td>Heikkinen, Miss. Laina</td>\n",
       "      <td>female</td>\n",
       "      <td>26.0</td>\n",
       "      <td>STON/O2. 3101282</td>\n",
       "      <td>7.9250</td>\n",
       "      <td>S</td>\n",
       "      <td>1</td>\n",
       "    </tr>\n",
       "    <tr>\n",
       "      <th>4</th>\n",
       "      <td>1</td>\n",
       "      <td>1</td>\n",
       "      <td>Futrelle, Mrs. Jacques Heath (Lily May Peel)</td>\n",
       "      <td>female</td>\n",
       "      <td>35.0</td>\n",
       "      <td>113803</td>\n",
       "      <td>53.1000</td>\n",
       "      <td>S</td>\n",
       "      <td>0</td>\n",
       "    </tr>\n",
       "    <tr>\n",
       "      <th>5</th>\n",
       "      <td>0</td>\n",
       "      <td>3</td>\n",
       "      <td>Allen, Mr. William Henry</td>\n",
       "      <td>male</td>\n",
       "      <td>35.0</td>\n",
       "      <td>373450</td>\n",
       "      <td>8.0500</td>\n",
       "      <td>S</td>\n",
       "      <td>1</td>\n",
       "    </tr>\n",
       "  </tbody>\n",
       "</table>\n",
       "</div>"
      ],
      "text/plain": [
       "             Survived  Pclass  \\\n",
       "PassengerId                     \n",
       "1                   0       3   \n",
       "2                   1       1   \n",
       "3                   1       3   \n",
       "4                   1       1   \n",
       "5                   0       3   \n",
       "\n",
       "                                                          Name     Sex   Age  \\\n",
       "PassengerId                                                                    \n",
       "1                                      Braund, Mr. Owen Harris    male  22.0   \n",
       "2            Cumings, Mrs. John Bradley (Florence Briggs Th...  female  38.0   \n",
       "3                                       Heikkinen, Miss. Laina  female  26.0   \n",
       "4                 Futrelle, Mrs. Jacques Heath (Lily May Peel)  female  35.0   \n",
       "5                                     Allen, Mr. William Henry    male  35.0   \n",
       "\n",
       "                       Ticket     Fare Embarked  TravelAlone  \n",
       "PassengerId                                                   \n",
       "1                   A/5 21171   7.2500        S            0  \n",
       "2                    PC 17599  71.2833        C            0  \n",
       "3            STON/O2. 3101282   7.9250        S            1  \n",
       "4                      113803  53.1000        S            0  \n",
       "5                      373450   8.0500        S            1  "
      ]
     },
     "execution_count": 14,
     "metadata": {},
     "output_type": "execute_result"
    }
   ],
   "source": [
    "train_data.head()"
   ]
  },
  {
   "cell_type": "markdown",
   "id": "c3c048a6",
   "metadata": {
    "papermill": {
     "duration": 0.049983,
     "end_time": "2021-09-27T23:48:47.635333",
     "exception": false,
     "start_time": "2021-09-27T23:48:47.585350",
     "status": "completed"
    },
    "tags": []
   },
   "source": [
    "**Convert all the data to categorical data with 0,1 using pd.get_dummies()**"
   ]
  },
  {
   "cell_type": "code",
   "execution_count": 15,
   "id": "87a4c31a",
   "metadata": {
    "execution": {
     "iopub.execute_input": "2021-09-27T23:48:47.739445Z",
     "iopub.status.busy": "2021-09-27T23:48:47.738828Z",
     "iopub.status.idle": "2021-09-27T23:48:47.768850Z",
     "shell.execute_reply": "2021-09-27T23:48:47.768345Z",
     "shell.execute_reply.started": "2021-09-27T23:34:37.391478Z"
    },
    "papermill": {
     "duration": 0.083327,
     "end_time": "2021-09-27T23:48:47.769015",
     "exception": false,
     "start_time": "2021-09-27T23:48:47.685688",
     "status": "completed"
    },
    "tags": []
   },
   "outputs": [
    {
     "data": {
      "text/html": [
       "<div>\n",
       "<style scoped>\n",
       "    .dataframe tbody tr th:only-of-type {\n",
       "        vertical-align: middle;\n",
       "    }\n",
       "\n",
       "    .dataframe tbody tr th {\n",
       "        vertical-align: top;\n",
       "    }\n",
       "\n",
       "    .dataframe thead th {\n",
       "        text-align: right;\n",
       "    }\n",
       "</style>\n",
       "<table border=\"1\" class=\"dataframe\">\n",
       "  <thead>\n",
       "    <tr style=\"text-align: right;\">\n",
       "      <th></th>\n",
       "      <th>Survived</th>\n",
       "      <th>Name</th>\n",
       "      <th>Age</th>\n",
       "      <th>Ticket</th>\n",
       "      <th>Fare</th>\n",
       "      <th>TravelAlone</th>\n",
       "      <th>Pclass_1</th>\n",
       "      <th>Pclass_2</th>\n",
       "      <th>Pclass_3</th>\n",
       "      <th>Sex_male</th>\n",
       "      <th>Embarked_C</th>\n",
       "      <th>Embarked_Q</th>\n",
       "      <th>Embarked_S</th>\n",
       "    </tr>\n",
       "    <tr>\n",
       "      <th>PassengerId</th>\n",
       "      <th></th>\n",
       "      <th></th>\n",
       "      <th></th>\n",
       "      <th></th>\n",
       "      <th></th>\n",
       "      <th></th>\n",
       "      <th></th>\n",
       "      <th></th>\n",
       "      <th></th>\n",
       "      <th></th>\n",
       "      <th></th>\n",
       "      <th></th>\n",
       "      <th></th>\n",
       "    </tr>\n",
       "  </thead>\n",
       "  <tbody>\n",
       "    <tr>\n",
       "      <th>1</th>\n",
       "      <td>0</td>\n",
       "      <td>Braund, Mr. Owen Harris</td>\n",
       "      <td>22.0</td>\n",
       "      <td>A/5 21171</td>\n",
       "      <td>7.2500</td>\n",
       "      <td>0</td>\n",
       "      <td>0</td>\n",
       "      <td>0</td>\n",
       "      <td>1</td>\n",
       "      <td>1</td>\n",
       "      <td>0</td>\n",
       "      <td>0</td>\n",
       "      <td>1</td>\n",
       "    </tr>\n",
       "    <tr>\n",
       "      <th>2</th>\n",
       "      <td>1</td>\n",
       "      <td>Cumings, Mrs. John Bradley (Florence Briggs Th...</td>\n",
       "      <td>38.0</td>\n",
       "      <td>PC 17599</td>\n",
       "      <td>71.2833</td>\n",
       "      <td>0</td>\n",
       "      <td>1</td>\n",
       "      <td>0</td>\n",
       "      <td>0</td>\n",
       "      <td>0</td>\n",
       "      <td>1</td>\n",
       "      <td>0</td>\n",
       "      <td>0</td>\n",
       "    </tr>\n",
       "    <tr>\n",
       "      <th>3</th>\n",
       "      <td>1</td>\n",
       "      <td>Heikkinen, Miss. Laina</td>\n",
       "      <td>26.0</td>\n",
       "      <td>STON/O2. 3101282</td>\n",
       "      <td>7.9250</td>\n",
       "      <td>1</td>\n",
       "      <td>0</td>\n",
       "      <td>0</td>\n",
       "      <td>1</td>\n",
       "      <td>0</td>\n",
       "      <td>0</td>\n",
       "      <td>0</td>\n",
       "      <td>1</td>\n",
       "    </tr>\n",
       "    <tr>\n",
       "      <th>4</th>\n",
       "      <td>1</td>\n",
       "      <td>Futrelle, Mrs. Jacques Heath (Lily May Peel)</td>\n",
       "      <td>35.0</td>\n",
       "      <td>113803</td>\n",
       "      <td>53.1000</td>\n",
       "      <td>0</td>\n",
       "      <td>1</td>\n",
       "      <td>0</td>\n",
       "      <td>0</td>\n",
       "      <td>0</td>\n",
       "      <td>0</td>\n",
       "      <td>0</td>\n",
       "      <td>1</td>\n",
       "    </tr>\n",
       "    <tr>\n",
       "      <th>5</th>\n",
       "      <td>0</td>\n",
       "      <td>Allen, Mr. William Henry</td>\n",
       "      <td>35.0</td>\n",
       "      <td>373450</td>\n",
       "      <td>8.0500</td>\n",
       "      <td>1</td>\n",
       "      <td>0</td>\n",
       "      <td>0</td>\n",
       "      <td>1</td>\n",
       "      <td>1</td>\n",
       "      <td>0</td>\n",
       "      <td>0</td>\n",
       "      <td>1</td>\n",
       "    </tr>\n",
       "  </tbody>\n",
       "</table>\n",
       "</div>"
      ],
      "text/plain": [
       "             Survived                                               Name  \\\n",
       "PassengerId                                                                \n",
       "1                   0                            Braund, Mr. Owen Harris   \n",
       "2                   1  Cumings, Mrs. John Bradley (Florence Briggs Th...   \n",
       "3                   1                             Heikkinen, Miss. Laina   \n",
       "4                   1       Futrelle, Mrs. Jacques Heath (Lily May Peel)   \n",
       "5                   0                           Allen, Mr. William Henry   \n",
       "\n",
       "              Age            Ticket     Fare  TravelAlone  Pclass_1  Pclass_2  \\\n",
       "PassengerId                                                                     \n",
       "1            22.0         A/5 21171   7.2500            0         0         0   \n",
       "2            38.0          PC 17599  71.2833            0         1         0   \n",
       "3            26.0  STON/O2. 3101282   7.9250            1         0         0   \n",
       "4            35.0            113803  53.1000            0         1         0   \n",
       "5            35.0            373450   8.0500            1         0         0   \n",
       "\n",
       "             Pclass_3  Sex_male  Embarked_C  Embarked_Q  Embarked_S  \n",
       "PassengerId                                                          \n",
       "1                   1         1           0           0           1  \n",
       "2                   0         0           1           0           0  \n",
       "3                   1         0           0           0           1  \n",
       "4                   0         0           0           0           1  \n",
       "5                   1         1           0           0           1  "
      ]
     },
     "execution_count": 15,
     "metadata": {},
     "output_type": "execute_result"
    }
   ],
   "source": [
    "train1 = pd.get_dummies(train_data, columns=['Pclass'])\n",
    "train2 = pd.get_dummies(train1, columns=['Sex'])\n",
    "train3 = pd.get_dummies(train2, columns=['Embarked'])\n",
    "#drop female col, as if male col = 1 then male, else (0) then female\n",
    "train3.drop('Sex_female', axis=1, inplace=True)\n",
    "train3.head()"
   ]
  },
  {
   "cell_type": "markdown",
   "id": "f7899b8a",
   "metadata": {
    "papermill": {
     "duration": 0.050867,
     "end_time": "2021-09-27T23:48:47.871103",
     "exception": false,
     "start_time": "2021-09-27T23:48:47.820236",
     "status": "completed"
    },
    "tags": []
   },
   "source": [
    "**As Name and Ticket are useless info here in this prediction, we are going to drop them\n",
    "(don't forget that we made PassengerId as our index, it won't be considered in the process**"
   ]
  },
  {
   "cell_type": "code",
   "execution_count": 16,
   "id": "4b558944",
   "metadata": {
    "execution": {
     "iopub.execute_input": "2021-09-27T23:48:47.976168Z",
     "iopub.status.busy": "2021-09-27T23:48:47.975517Z",
     "iopub.status.idle": "2021-09-27T23:48:47.980676Z",
     "shell.execute_reply": "2021-09-27T23:48:47.981184Z",
     "shell.execute_reply.started": "2021-09-27T23:34:37.535522Z"
    },
    "papermill": {
     "duration": 0.059342,
     "end_time": "2021-09-27T23:48:47.981347",
     "exception": false,
     "start_time": "2021-09-27T23:48:47.922005",
     "status": "completed"
    },
    "tags": []
   },
   "outputs": [],
   "source": [
    "train3.drop('Name', axis=1, inplace=True)\n",
    "train3.drop('Ticket', axis=1, inplace=True)"
   ]
  },
  {
   "cell_type": "code",
   "execution_count": 17,
   "id": "eada94e2",
   "metadata": {
    "execution": {
     "iopub.execute_input": "2021-09-27T23:48:48.086179Z",
     "iopub.status.busy": "2021-09-27T23:48:48.085493Z",
     "iopub.status.idle": "2021-09-27T23:48:48.097526Z",
     "shell.execute_reply": "2021-09-27T23:48:48.098095Z",
     "shell.execute_reply.started": "2021-09-27T23:34:37.542710Z"
    },
    "papermill": {
     "duration": 0.066552,
     "end_time": "2021-09-27T23:48:48.098253",
     "exception": false,
     "start_time": "2021-09-27T23:48:48.031701",
     "status": "completed"
    },
    "tags": []
   },
   "outputs": [
    {
     "data": {
      "text/html": [
       "<div>\n",
       "<style scoped>\n",
       "    .dataframe tbody tr th:only-of-type {\n",
       "        vertical-align: middle;\n",
       "    }\n",
       "\n",
       "    .dataframe tbody tr th {\n",
       "        vertical-align: top;\n",
       "    }\n",
       "\n",
       "    .dataframe thead th {\n",
       "        text-align: right;\n",
       "    }\n",
       "</style>\n",
       "<table border=\"1\" class=\"dataframe\">\n",
       "  <thead>\n",
       "    <tr style=\"text-align: right;\">\n",
       "      <th></th>\n",
       "      <th>Survived</th>\n",
       "      <th>Age</th>\n",
       "      <th>Fare</th>\n",
       "      <th>TravelAlone</th>\n",
       "      <th>Pclass_1</th>\n",
       "      <th>Pclass_2</th>\n",
       "      <th>Pclass_3</th>\n",
       "      <th>Sex_male</th>\n",
       "      <th>Embarked_C</th>\n",
       "      <th>Embarked_Q</th>\n",
       "      <th>Embarked_S</th>\n",
       "    </tr>\n",
       "    <tr>\n",
       "      <th>PassengerId</th>\n",
       "      <th></th>\n",
       "      <th></th>\n",
       "      <th></th>\n",
       "      <th></th>\n",
       "      <th></th>\n",
       "      <th></th>\n",
       "      <th></th>\n",
       "      <th></th>\n",
       "      <th></th>\n",
       "      <th></th>\n",
       "      <th></th>\n",
       "    </tr>\n",
       "  </thead>\n",
       "  <tbody>\n",
       "    <tr>\n",
       "      <th>1</th>\n",
       "      <td>0</td>\n",
       "      <td>22.0</td>\n",
       "      <td>7.2500</td>\n",
       "      <td>0</td>\n",
       "      <td>0</td>\n",
       "      <td>0</td>\n",
       "      <td>1</td>\n",
       "      <td>1</td>\n",
       "      <td>0</td>\n",
       "      <td>0</td>\n",
       "      <td>1</td>\n",
       "    </tr>\n",
       "    <tr>\n",
       "      <th>2</th>\n",
       "      <td>1</td>\n",
       "      <td>38.0</td>\n",
       "      <td>71.2833</td>\n",
       "      <td>0</td>\n",
       "      <td>1</td>\n",
       "      <td>0</td>\n",
       "      <td>0</td>\n",
       "      <td>0</td>\n",
       "      <td>1</td>\n",
       "      <td>0</td>\n",
       "      <td>0</td>\n",
       "    </tr>\n",
       "    <tr>\n",
       "      <th>3</th>\n",
       "      <td>1</td>\n",
       "      <td>26.0</td>\n",
       "      <td>7.9250</td>\n",
       "      <td>1</td>\n",
       "      <td>0</td>\n",
       "      <td>0</td>\n",
       "      <td>1</td>\n",
       "      <td>0</td>\n",
       "      <td>0</td>\n",
       "      <td>0</td>\n",
       "      <td>1</td>\n",
       "    </tr>\n",
       "    <tr>\n",
       "      <th>4</th>\n",
       "      <td>1</td>\n",
       "      <td>35.0</td>\n",
       "      <td>53.1000</td>\n",
       "      <td>0</td>\n",
       "      <td>1</td>\n",
       "      <td>0</td>\n",
       "      <td>0</td>\n",
       "      <td>0</td>\n",
       "      <td>0</td>\n",
       "      <td>0</td>\n",
       "      <td>1</td>\n",
       "    </tr>\n",
       "    <tr>\n",
       "      <th>5</th>\n",
       "      <td>0</td>\n",
       "      <td>35.0</td>\n",
       "      <td>8.0500</td>\n",
       "      <td>1</td>\n",
       "      <td>0</td>\n",
       "      <td>0</td>\n",
       "      <td>1</td>\n",
       "      <td>1</td>\n",
       "      <td>0</td>\n",
       "      <td>0</td>\n",
       "      <td>1</td>\n",
       "    </tr>\n",
       "  </tbody>\n",
       "</table>\n",
       "</div>"
      ],
      "text/plain": [
       "             Survived   Age     Fare  TravelAlone  Pclass_1  Pclass_2  \\\n",
       "PassengerId                                                             \n",
       "1                   0  22.0   7.2500            0         0         0   \n",
       "2                   1  38.0  71.2833            0         1         0   \n",
       "3                   1  26.0   7.9250            1         0         0   \n",
       "4                   1  35.0  53.1000            0         1         0   \n",
       "5                   0  35.0   8.0500            1         0         0   \n",
       "\n",
       "             Pclass_3  Sex_male  Embarked_C  Embarked_Q  Embarked_S  \n",
       "PassengerId                                                          \n",
       "1                   1         1           0           0           1  \n",
       "2                   0         0           1           0           0  \n",
       "3                   1         0           0           0           1  \n",
       "4                   0         0           0           0           1  \n",
       "5                   1         1           0           0           1  "
      ]
     },
     "execution_count": 17,
     "metadata": {},
     "output_type": "execute_result"
    }
   ],
   "source": [
    "final_train = train3\n",
    "final_train.head()"
   ]
  },
  {
   "cell_type": "markdown",
   "id": "4cbdf6dc",
   "metadata": {
    "papermill": {
     "duration": 0.050939,
     "end_time": "2021-09-27T23:48:48.200401",
     "exception": false,
     "start_time": "2021-09-27T23:48:48.149462",
     "status": "completed"
    },
    "tags": []
   },
   "source": [
    "### Now, apply the same changes to the test data.\n",
    "#### impute by the same values that you have calculated in Training Set, but before doing so, check the test data to see whether it contains any other missing data or not"
   ]
  },
  {
   "cell_type": "code",
   "execution_count": 18,
   "id": "2089ea9f",
   "metadata": {
    "execution": {
     "iopub.execute_input": "2021-09-27T23:48:48.311596Z",
     "iopub.status.busy": "2021-09-27T23:48:48.310835Z",
     "iopub.status.idle": "2021-09-27T23:48:48.314478Z",
     "shell.execute_reply": "2021-09-27T23:48:48.313924Z",
     "shell.execute_reply.started": "2021-09-27T23:34:37.565355Z"
    },
    "papermill": {
     "duration": 0.062769,
     "end_time": "2021-09-27T23:48:48.314606",
     "exception": false,
     "start_time": "2021-09-27T23:48:48.251837",
     "status": "completed"
    },
    "tags": []
   },
   "outputs": [
    {
     "data": {
      "text/plain": [
       "PassengerId      0\n",
       "Pclass           0\n",
       "Name             0\n",
       "Sex              0\n",
       "Age             86\n",
       "SibSp            0\n",
       "Parch            0\n",
       "Ticket           0\n",
       "Fare             1\n",
       "Cabin          327\n",
       "Embarked         0\n",
       "dtype: int64"
      ]
     },
     "execution_count": 18,
     "metadata": {},
     "output_type": "execute_result"
    }
   ],
   "source": [
    "test_df.isnull().sum()"
   ]
  },
  {
   "cell_type": "code",
   "execution_count": 19,
   "id": "d0db34d6",
   "metadata": {
    "execution": {
     "iopub.execute_input": "2021-09-27T23:48:48.420886Z",
     "iopub.status.busy": "2021-09-27T23:48:48.420280Z",
     "iopub.status.idle": "2021-09-27T23:48:48.425284Z",
     "shell.execute_reply": "2021-09-27T23:48:48.425818Z",
     "shell.execute_reply.started": "2021-09-27T23:34:37.575832Z"
    },
    "papermill": {
     "duration": 0.059588,
     "end_time": "2021-09-27T23:48:48.425980",
     "exception": false,
     "start_time": "2021-09-27T23:48:48.366392",
     "status": "completed"
    },
    "tags": []
   },
   "outputs": [],
   "source": [
    "test_df['Age'].fillna(28, inplace=True)\n",
    "test_df.drop('Cabin', axis=1, inplace=True)"
   ]
  },
  {
   "cell_type": "code",
   "execution_count": 20,
   "id": "beb4acf2",
   "metadata": {
    "execution": {
     "iopub.execute_input": "2021-09-27T23:48:48.533744Z",
     "iopub.status.busy": "2021-09-27T23:48:48.533107Z",
     "iopub.status.idle": "2021-09-27T23:48:48.880822Z",
     "shell.execute_reply": "2021-09-27T23:48:48.881355Z",
     "shell.execute_reply.started": "2021-09-27T23:34:37.583668Z"
    },
    "papermill": {
     "duration": 0.403551,
     "end_time": "2021-09-27T23:48:48.881548",
     "exception": false,
     "start_time": "2021-09-27T23:48:48.477997",
     "status": "completed"
    },
    "tags": []
   },
   "outputs": [
    {
     "name": "stderr",
     "output_type": "stream",
     "text": [
      "/opt/conda/lib/python3.7/site-packages/seaborn/distributions.py:2619: FutureWarning: `distplot` is a deprecated function and will be removed in a future version. Please adapt your code to use either `displot` (a figure-level function with similar flexibility) or `histplot` (an axes-level function for histograms).\n",
      "  warnings.warn(msg, FutureWarning)\n"
     ]
    },
    {
     "data": {
      "image/png": "[encoded data removed]",
      "text/plain": [
       "<Figure size 1152x360 with 1 Axes>"
      ]
     },
     "metadata": {},
     "output_type": "display_data"
    }
   ],
   "source": [
    "plt.figure(figsize=(16,5))\n",
    "ax = sns.distplot(test_df['Fare'], kde=False, color='red')\n",
    "plt.show()\n",
    "#as fare is right skewed, then we are going to impute with the median\n",
    "test_df['Fare'].fillna(test_df['Fare'].median(), inplace=True)"
   ]
  },
  {
   "cell_type": "code",
   "execution_count": 21,
   "id": "1012c6bf",
   "metadata": {
    "execution": {
     "iopub.execute_input": "2021-09-27T23:48:48.991611Z",
     "iopub.status.busy": "2021-09-27T23:48:48.990947Z",
     "iopub.status.idle": "2021-09-27T23:48:48.998138Z",
     "shell.execute_reply": "2021-09-27T23:48:48.998660Z",
     "shell.execute_reply.started": "2021-09-27T23:34:37.938258Z"
    },
    "papermill": {
     "duration": 0.06447,
     "end_time": "2021-09-27T23:48:48.998821",
     "exception": false,
     "start_time": "2021-09-27T23:48:48.934351",
     "status": "completed"
    },
    "tags": []
   },
   "outputs": [
    {
     "data": {
      "text/plain": [
       "PassengerId    0\n",
       "Pclass         0\n",
       "Name           0\n",
       "Sex            0\n",
       "Age            0\n",
       "SibSp          0\n",
       "Parch          0\n",
       "Ticket         0\n",
       "Fare           0\n",
       "Embarked       0\n",
       "dtype: int64"
      ]
     },
     "execution_count": 21,
     "metadata": {},
     "output_type": "execute_result"
    }
   ],
   "source": [
    "test_df.isnull().sum()"
   ]
  },
  {
   "cell_type": "markdown",
   "id": "95c64258",
   "metadata": {
    "papermill": {
     "duration": 0.054518,
     "end_time": "2021-09-27T23:48:49.106697",
     "exception": false,
     "start_time": "2021-09-27T23:48:49.052179",
     "status": "completed"
    },
    "tags": []
   },
   "source": [
    "### Do the same as Training Set"
   ]
  },
  {
   "cell_type": "code",
   "execution_count": 22,
   "id": "25ea3d65",
   "metadata": {
    "execution": {
     "iopub.execute_input": "2021-09-27T23:48:49.334769Z",
     "iopub.status.busy": "2021-09-27T23:48:49.224340Z",
     "iopub.status.idle": "2021-09-27T23:48:49.349579Z",
     "shell.execute_reply": "2021-09-27T23:48:49.348961Z",
     "shell.execute_reply.started": "2021-09-27T23:34:37.948647Z"
    },
    "papermill": {
     "duration": 0.189011,
     "end_time": "2021-09-27T23:48:49.349751",
     "exception": false,
     "start_time": "2021-09-27T23:48:49.160740",
     "status": "completed"
    },
    "tags": []
   },
   "outputs": [],
   "source": [
    "test_df['Family']= test_df[\"SibSp\"] + test_df[\"Parch\"]\n",
    "test_df['TravelAlone']= np.where(test_df['Family'] > 0, 0, 1)\n",
    "\n",
    "test_df.drop('SibSp', axis=1, inplace=True)\n",
    "test_df.drop('Parch', axis=1, inplace=True)\n",
    "test_df.drop('Family', axis=1, inplace=True)\n",
    "\n",
    "test2 = pd.get_dummies(test_df, columns=[\"Pclass\"])\n",
    "test3 = pd.get_dummies(test2, columns=[\"Embarked\"])\n",
    "\n",
    "test4=pd.get_dummies(test3, columns=[\"Sex\"])\n",
    "test4.drop('Sex_female', axis=1, inplace=True)\n",
    "\n",
    "test4.drop('Name', axis=1, inplace=True)\n",
    "test4.drop('Ticket', axis=1, inplace=True)\n",
    "final_test = test4\n",
    "\n",
    "final_test.set_index(['PassengerId'], inplace=True)"
   ]
  },
  {
   "cell_type": "code",
   "execution_count": 23,
   "id": "2adebb0c",
   "metadata": {
    "execution": {
     "iopub.execute_input": "2021-09-27T23:48:49.470531Z",
     "iopub.status.busy": "2021-09-27T23:48:49.469722Z",
     "iopub.status.idle": "2021-09-27T23:48:49.472979Z",
     "shell.execute_reply": "2021-09-27T23:48:49.473438Z",
     "shell.execute_reply.started": "2021-09-27T23:34:37.980314Z"
    },
    "papermill": {
     "duration": 0.07047,
     "end_time": "2021-09-27T23:48:49.473623",
     "exception": false,
     "start_time": "2021-09-27T23:48:49.403153",
     "status": "completed"
    },
    "tags": []
   },
   "outputs": [
    {
     "data": {
      "text/html": [
       "<div>\n",
       "<style scoped>\n",
       "    .dataframe tbody tr th:only-of-type {\n",
       "        vertical-align: middle;\n",
       "    }\n",
       "\n",
       "    .dataframe tbody tr th {\n",
       "        vertical-align: top;\n",
       "    }\n",
       "\n",
       "    .dataframe thead th {\n",
       "        text-align: right;\n",
       "    }\n",
       "</style>\n",
       "<table border=\"1\" class=\"dataframe\">\n",
       "  <thead>\n",
       "    <tr style=\"text-align: right;\">\n",
       "      <th></th>\n",
       "      <th>Age</th>\n",
       "      <th>Fare</th>\n",
       "      <th>TravelAlone</th>\n",
       "      <th>Pclass_1</th>\n",
       "      <th>Pclass_2</th>\n",
       "      <th>Pclass_3</th>\n",
       "      <th>Embarked_C</th>\n",
       "      <th>Embarked_Q</th>\n",
       "      <th>Embarked_S</th>\n",
       "      <th>Sex_male</th>\n",
       "    </tr>\n",
       "    <tr>\n",
       "      <th>PassengerId</th>\n",
       "      <th></th>\n",
       "      <th></th>\n",
       "      <th></th>\n",
       "      <th></th>\n",
       "      <th></th>\n",
       "      <th></th>\n",
       "      <th></th>\n",
       "      <th></th>\n",
       "      <th></th>\n",
       "      <th></th>\n",
       "    </tr>\n",
       "  </thead>\n",
       "  <tbody>\n",
       "    <tr>\n",
       "      <th>892</th>\n",
       "      <td>34.5</td>\n",
       "      <td>7.8292</td>\n",
       "      <td>1</td>\n",
       "      <td>0</td>\n",
       "      <td>0</td>\n",
       "      <td>1</td>\n",
       "      <td>0</td>\n",
       "      <td>1</td>\n",
       "      <td>0</td>\n",
       "      <td>1</td>\n",
       "    </tr>\n",
       "    <tr>\n",
       "      <th>893</th>\n",
       "      <td>47.0</td>\n",
       "      <td>7.0000</td>\n",
       "      <td>0</td>\n",
       "      <td>0</td>\n",
       "      <td>0</td>\n",
       "      <td>1</td>\n",
       "      <td>0</td>\n",
       "      <td>0</td>\n",
       "      <td>1</td>\n",
       "      <td>0</td>\n",
       "    </tr>\n",
       "    <tr>\n",
       "      <th>894</th>\n",
       "      <td>62.0</td>\n",
       "      <td>9.6875</td>\n",
       "      <td>1</td>\n",
       "      <td>0</td>\n",
       "      <td>1</td>\n",
       "      <td>0</td>\n",
       "      <td>0</td>\n",
       "      <td>1</td>\n",
       "      <td>0</td>\n",
       "      <td>1</td>\n",
       "    </tr>\n",
       "    <tr>\n",
       "      <th>895</th>\n",
       "      <td>27.0</td>\n",
       "      <td>8.6625</td>\n",
       "      <td>1</td>\n",
       "      <td>0</td>\n",
       "      <td>0</td>\n",
       "      <td>1</td>\n",
       "      <td>0</td>\n",
       "      <td>0</td>\n",
       "      <td>1</td>\n",
       "      <td>1</td>\n",
       "    </tr>\n",
       "    <tr>\n",
       "      <th>896</th>\n",
       "      <td>22.0</td>\n",
       "      <td>12.2875</td>\n",
       "      <td>0</td>\n",
       "      <td>0</td>\n",
       "      <td>0</td>\n",
       "      <td>1</td>\n",
       "      <td>0</td>\n",
       "      <td>0</td>\n",
       "      <td>1</td>\n",
       "      <td>0</td>\n",
       "    </tr>\n",
       "  </tbody>\n",
       "</table>\n",
       "</div>"
      ],
      "text/plain": [
       "              Age     Fare  TravelAlone  Pclass_1  Pclass_2  Pclass_3  \\\n",
       "PassengerId                                                             \n",
       "892          34.5   7.8292            1         0         0         1   \n",
       "893          47.0   7.0000            0         0         0         1   \n",
       "894          62.0   9.6875            1         0         1         0   \n",
       "895          27.0   8.6625            1         0         0         1   \n",
       "896          22.0  12.2875            0         0         0         1   \n",
       "\n",
       "             Embarked_C  Embarked_Q  Embarked_S  Sex_male  \n",
       "PassengerId                                                \n",
       "892                   0           1           0         1  \n",
       "893                   0           0           1         0  \n",
       "894                   0           1           0         1  \n",
       "895                   0           0           1         1  \n",
       "896                   0           0           1         0  "
      ]
     },
     "execution_count": 23,
     "metadata": {},
     "output_type": "execute_result"
    }
   ],
   "source": [
    "final_test.head()"
   ]
  },
  {
   "cell_type": "markdown",
   "id": "221c8e97",
   "metadata": {
    "papermill": {
     "duration": 0.054288,
     "end_time": "2021-09-27T23:48:49.581534",
     "exception": false,
     "start_time": "2021-09-27T23:48:49.527246",
     "status": "completed"
    },
    "tags": []
   },
   "source": [
    "# 3. Exploratory Data Analysis "
   ]
  },
  {
   "cell_type": "markdown",
   "id": "9b4fb589",
   "metadata": {
    "papermill": {
     "duration": 0.053894,
     "end_time": "2021-09-27T23:48:49.689768",
     "exception": false,
     "start_time": "2021-09-27T23:48:49.635874",
     "status": "completed"
    },
    "tags": []
   },
   "source": [
    "## 3.1 Exploration of Age"
   ]
  },
  {
   "cell_type": "code",
   "execution_count": 24,
   "id": "28c03524",
   "metadata": {
    "execution": {
     "iopub.execute_input": "2021-09-27T23:48:49.841551Z",
     "iopub.status.busy": "2021-09-27T23:48:49.804708Z",
     "iopub.status.idle": "2021-09-27T23:48:50.182920Z",
     "shell.execute_reply": "2021-09-27T23:48:50.182269Z",
     "shell.execute_reply.started": "2021-09-27T23:34:37.996026Z"
    },
    "papermill": {
     "duration": 0.439517,
     "end_time": "2021-09-27T23:48:50.183076",
     "exception": false,
     "start_time": "2021-09-27T23:48:49.743559",
     "status": "completed"
    },
    "tags": []
   },
   "outputs": [
    {
     "data": {
      "text/plain": [
       "Text(0.5, 1.0, 'Density Plot of Age for Surviving Population and Deceased Population')"
      ]
     },
     "execution_count": 24,
     "metadata": {},
     "output_type": "execute_result"
    },
    {
     "data": {
      "image/png": "[encoded data removed]",
      "text/plain": [
       "<Figure size 1080x576 with 1 Axes>"
      ]
     },
     "metadata": {},
     "output_type": "display_data"
    }
   ],
   "source": [
    "plt.figure(figsize=(15,8))\n",
    "sns.kdeplot(final_train['Age'][final_train['Survived'] == 1], color='blue', shade=True)\n",
    "sns.kdeplot(final_train['Age'][final_train['Survived'] == 0], color='red', shade=True)\n",
    "plt.legend(['Survived', 'Died'])\n",
    "plt.title('Density Plot of Age for Surviving Population and Deceased Population')"
   ]
  },
  {
   "cell_type": "markdown",
   "id": "78982863",
   "metadata": {
    "papermill": {
     "duration": 0.055607,
     "end_time": "2021-09-27T23:48:50.295753",
     "exception": false,
     "start_time": "2021-09-27T23:48:50.240146",
     "status": "completed"
    },
    "tags": []
   },
   "source": [
    "**The age distribution for survivors and deceased is actually very similar. One notable difference is that, of the survivors, a larger proportion were children. The passengers evidently made an attempt to save children by giving them a place on the life rafts.**"
   ]
  },
  {
   "cell_type": "code",
   "execution_count": 25,
   "id": "e984d5ce",
   "metadata": {
    "execution": {
     "iopub.execute_input": "2021-09-27T23:48:50.428068Z",
     "iopub.status.busy": "2021-09-27T23:48:50.425980Z",
     "iopub.status.idle": "2021-09-27T23:48:53.479602Z",
     "shell.execute_reply": "2021-09-27T23:48:53.478939Z",
     "shell.execute_reply.started": "2021-09-27T23:34:38.374918Z"
    },
    "papermill": {
     "duration": 3.12829,
     "end_time": "2021-09-27T23:48:53.479797",
     "exception": false,
     "start_time": "2021-09-27T23:48:50.351507",
     "status": "completed"
    },
    "tags": []
   },
   "outputs": [
    {
     "data": {
      "image/png": "[encoded data removed]",
      "text/plain": [
       "<Figure size 1440x576 with 1 Axes>"
      ]
     },
     "metadata": {},
     "output_type": "display_data"
    }
   ],
   "source": [
    "plt.figure(figsize=(20,8))\n",
    "avg_survival_byage = final_train[[\"Age\", \"Survived\"]].groupby(final_train['Age']).mean()\n",
    "g = sns.barplot(x='Age', y='Survived', data=avg_survival_byage, color=\"LightSeaGreen\")"
   ]
  },
  {
   "cell_type": "markdown",
   "id": "5c7ff553",
   "metadata": {
    "papermill": {
     "duration": 0.05807,
     "end_time": "2021-09-27T23:48:53.594841",
     "exception": false,
     "start_time": "2021-09-27T23:48:53.536771",
     "status": "completed"
    },
    "tags": []
   },
   "source": [
    "Considering the survival rate of passengers under 16, I'll also include another categorical variable in my dataset: \"Minor\""
   ]
  },
  {
   "cell_type": "code",
   "execution_count": 26,
   "id": "6a0bcb97",
   "metadata": {
    "execution": {
     "iopub.execute_input": "2021-09-27T23:48:53.717673Z",
     "iopub.status.busy": "2021-09-27T23:48:53.717012Z",
     "iopub.status.idle": "2021-09-27T23:48:53.719488Z",
     "shell.execute_reply": "2021-09-27T23:48:53.718858Z",
     "shell.execute_reply.started": "2021-09-27T23:34:41.462199Z"
    },
    "papermill": {
     "duration": 0.067343,
     "end_time": "2021-09-27T23:48:53.719648",
     "exception": false,
     "start_time": "2021-09-27T23:48:53.652305",
     "status": "completed"
    },
    "tags": []
   },
   "outputs": [],
   "source": [
    "final_train['IsMinor']= np.where(train_data['Age'] <= 16, 1, 0)\n",
    "final_test['IsMinor']= np.where(test_df['Age'] <= 16, 1, 0)"
   ]
  },
  {
   "cell_type": "markdown",
   "id": "d319890a",
   "metadata": {
    "papermill": {
     "duration": 0.058615,
     "end_time": "2021-09-27T23:48:53.835528",
     "exception": false,
     "start_time": "2021-09-27T23:48:53.776913",
     "status": "completed"
    },
    "tags": []
   },
   "source": [
    "## 3.2 Exploration of Fare"
   ]
  },
  {
   "cell_type": "code",
   "execution_count": 27,
   "id": "c148fca5",
   "metadata": {
    "execution": {
     "iopub.execute_input": "2021-09-27T23:48:53.952875Z",
     "iopub.status.busy": "2021-09-27T23:48:53.952243Z",
     "iopub.status.idle": "2021-09-27T23:48:54.305154Z",
     "shell.execute_reply": "2021-09-27T23:48:54.305773Z",
     "shell.execute_reply.started": "2021-09-27T23:34:41.472347Z"
    },
    "papermill": {
     "duration": 0.413579,
     "end_time": "2021-09-27T23:48:54.305959",
     "exception": false,
     "start_time": "2021-09-27T23:48:53.892380",
     "status": "completed"
    },
    "tags": []
   },
   "outputs": [
    {
     "data": {
      "image/png": "[encoded data removed]",
      "text/plain": [
       "<Figure size 1080x576 with 1 Axes>"
      ]
     },
     "metadata": {},
     "output_type": "display_data"
    }
   ],
   "source": [
    "plt.figure(figsize=(15,8))\n",
    "sns.kdeplot(final_train[\"Fare\"][final_train.Survived == 1], color=\"blue\", shade=True)\n",
    "sns.kdeplot(final_train[\"Fare\"][final_train.Survived == 0], color=\"red\", shade=True)\n",
    "plt.legend(['Survived', 'Died'])\n",
    "plt.title('Density Plot of Fare for Surviving Population and Deceased Population')\n",
    "\n",
    "# limit x axis to zoom on most information. there are a few outliers in fare. \n",
    "plt.xlim(-20,200)\n",
    "plt.show()"
   ]
  },
  {
   "cell_type": "markdown",
   "id": "530366fa",
   "metadata": {
    "papermill": {
     "duration": 0.058176,
     "end_time": "2021-09-27T23:48:54.422399",
     "exception": false,
     "start_time": "2021-09-27T23:48:54.364223",
     "status": "completed"
    },
    "tags": []
   },
   "source": [
    "As the distributions are clearly different for the fares of survivors vs. deceased, it's likely that this would be a significant predictor in our final model. Passengers who paid lower fare appear to have been less likely to survive. This is probably strongly correlated with Passenger Class, which we'll look at next."
   ]
  },
  {
   "cell_type": "markdown",
   "id": "3bf31c6b",
   "metadata": {
    "papermill": {
     "duration": 0.057725,
     "end_time": "2021-09-27T23:48:54.538276",
     "exception": false,
     "start_time": "2021-09-27T23:48:54.480551",
     "status": "completed"
    },
    "tags": []
   },
   "source": [
    "## 3.3 Exploration of Passenger Class"
   ]
  },
  {
   "cell_type": "code",
   "execution_count": 28,
   "id": "48f2c68d",
   "metadata": {
    "execution": {
     "iopub.execute_input": "2021-09-27T23:48:54.659144Z",
     "iopub.status.busy": "2021-09-27T23:48:54.658508Z",
     "iopub.status.idle": "2021-09-27T23:48:54.959788Z",
     "shell.execute_reply": "2021-09-27T23:48:54.959129Z",
     "shell.execute_reply.started": "2021-09-27T23:34:41.844156Z"
    },
    "papermill": {
     "duration": 0.362726,
     "end_time": "2021-09-27T23:48:54.959925",
     "exception": false,
     "start_time": "2021-09-27T23:48:54.597199",
     "status": "completed"
    },
    "tags": []
   },
   "outputs": [
    {
     "name": "stderr",
     "output_type": "stream",
     "text": [
      "/opt/conda/lib/python3.7/site-packages/seaborn/_decorators.py:43: FutureWarning: Pass the following variables as keyword args: x, y. From version 0.12, the only valid positional argument will be `data`, and passing other arguments without an explicit keyword will result in an error or misinterpretation.\n",
      "  FutureWarning\n"
     ]
    },
    {
     "data": {
      "image/png": "[encoded data removed]",
      "text/plain": [
       "<Figure size 432x288 with 1 Axes>"
      ]
     },
     "metadata": {},
     "output_type": "display_data"
    }
   ],
   "source": [
    "sns.barplot('Pclass', 'Survived', data=titanic_df)\n",
    "plt.show()"
   ]
  },
  {
   "cell_type": "markdown",
   "id": "ec22a152",
   "metadata": {
    "papermill": {
     "duration": 0.058402,
     "end_time": "2021-09-27T23:48:55.077560",
     "exception": false,
     "start_time": "2021-09-27T23:48:55.019158",
     "status": "completed"
    },
    "tags": []
   },
   "source": [
    "Unsurprisingly, being a first class passenger was safest."
   ]
  },
  {
   "cell_type": "markdown",
   "id": "9bf2c679",
   "metadata": {
    "papermill": {
     "duration": 0.061384,
     "end_time": "2021-09-27T23:48:55.199305",
     "exception": false,
     "start_time": "2021-09-27T23:48:55.137921",
     "status": "completed"
    },
    "tags": []
   },
   "source": [
    "## 3.4 Exploration of Embarked Port"
   ]
  },
  {
   "cell_type": "code",
   "execution_count": 29,
   "id": "cf6db15c",
   "metadata": {
    "execution": {
     "iopub.execute_input": "2021-09-27T23:48:55.326374Z",
     "iopub.status.busy": "2021-09-27T23:48:55.325358Z",
     "iopub.status.idle": "2021-09-27T23:48:55.612804Z",
     "shell.execute_reply": "2021-09-27T23:48:55.613283Z",
     "shell.execute_reply.started": "2021-09-27T23:34:42.151347Z"
    },
    "papermill": {
     "duration": 0.353851,
     "end_time": "2021-09-27T23:48:55.613467",
     "exception": false,
     "start_time": "2021-09-27T23:48:55.259616",
     "status": "completed"
    },
    "tags": []
   },
   "outputs": [
    {
     "name": "stderr",
     "output_type": "stream",
     "text": [
      "/opt/conda/lib/python3.7/site-packages/seaborn/_decorators.py:43: FutureWarning: Pass the following variables as keyword args: x, y. From version 0.12, the only valid positional argument will be `data`, and passing other arguments without an explicit keyword will result in an error or misinterpretation.\n",
      "  FutureWarning\n"
     ]
    },
    {
     "data": {
      "image/png": "[encoded data removed]",
      "text/plain": [
       "<Figure size 432x288 with 1 Axes>"
      ]
     },
     "metadata": {},
     "output_type": "display_data"
    }
   ],
   "source": [
    "sns.barplot('Embarked', 'Survived', data=titanic_df, color=\"teal\")\n",
    "plt.show()"
   ]
  },
  {
   "cell_type": "markdown",
   "id": "39c41ae9",
   "metadata": {
    "papermill": {
     "duration": 0.060202,
     "end_time": "2021-09-27T23:48:55.734163",
     "exception": false,
     "start_time": "2021-09-27T23:48:55.673961",
     "status": "completed"
    },
    "tags": []
   },
   "source": [
    "assengers who boarded in Cherbourg, France, appear to have the highest survival rate. Passengers who boarded in Southhampton were marginally less likely to survive than those who boarded in Queenstown. This is probably related to passenger class, or maybe even the order of room assignments (e.g. maybe earlier passengers were more likely to have rooms closer to deck)."
   ]
  },
  {
   "cell_type": "markdown",
   "id": "0082a2af",
   "metadata": {
    "papermill": {
     "duration": 0.062811,
     "end_time": "2021-09-27T23:48:55.856837",
     "exception": false,
     "start_time": "2021-09-27T23:48:55.794026",
     "status": "completed"
    },
    "tags": []
   },
   "source": [
    "## 3.5 Exploration of Traveling Alone vs. With Family"
   ]
  },
  {
   "cell_type": "code",
   "execution_count": 30,
   "id": "de739bc7",
   "metadata": {
    "execution": {
     "iopub.execute_input": "2021-09-27T23:48:55.985239Z",
     "iopub.status.busy": "2021-09-27T23:48:55.984595Z",
     "iopub.status.idle": "2021-09-27T23:48:56.231751Z",
     "shell.execute_reply": "2021-09-27T23:48:56.232633Z",
     "shell.execute_reply.started": "2021-09-27T23:34:42.442845Z"
    },
    "papermill": {
     "duration": 0.315632,
     "end_time": "2021-09-27T23:48:56.232979",
     "exception": false,
     "start_time": "2021-09-27T23:48:55.917347",
     "status": "completed"
    },
    "tags": []
   },
   "outputs": [
    {
     "name": "stderr",
     "output_type": "stream",
     "text": [
      "/opt/conda/lib/python3.7/site-packages/seaborn/_decorators.py:43: FutureWarning: Pass the following variables as keyword args: x, y. From version 0.12, the only valid positional argument will be `data`, and passing other arguments without an explicit keyword will result in an error or misinterpretation.\n",
      "  FutureWarning\n"
     ]
    },
    {
     "data": {
      "image/png": "[encoded data removed]",
      "text/plain": [
       "<Figure size 432x288 with 1 Axes>"
      ]
     },
     "metadata": {},
     "output_type": "display_data"
    }
   ],
   "source": [
    "sns.barplot('TravelAlone', 'Survived', data=final_train, color=\"mediumturquoise\")\n",
    "plt.show()"
   ]
  },
  {
   "cell_type": "markdown",
   "id": "83acf03d",
   "metadata": {
    "papermill": {
     "duration": 0.061034,
     "end_time": "2021-09-27T23:48:56.372681",
     "exception": false,
     "start_time": "2021-09-27T23:48:56.311647",
     "status": "completed"
    },
    "tags": []
   },
   "source": [
    "Individuals traveling without family were more likely to die in the disaster than those with family aboard. Given the era, it's likely that individuals traveling alone were likely male."
   ]
  },
  {
   "cell_type": "markdown",
   "id": "37c9ad93",
   "metadata": {
    "papermill": {
     "duration": 0.060562,
     "end_time": "2021-09-27T23:48:56.494233",
     "exception": false,
     "start_time": "2021-09-27T23:48:56.433671",
     "status": "completed"
    },
    "tags": []
   },
   "source": [
    "## 3.6 Exploration of Gender Variable"
   ]
  },
  {
   "cell_type": "code",
   "execution_count": 31,
   "id": "ddc73950",
   "metadata": {
    "execution": {
     "iopub.execute_input": "2021-09-27T23:48:56.621991Z",
     "iopub.status.busy": "2021-09-27T23:48:56.621046Z",
     "iopub.status.idle": "2021-09-27T23:48:56.877565Z",
     "shell.execute_reply": "2021-09-27T23:48:56.878032Z",
     "shell.execute_reply.started": "2021-09-27T23:34:42.687501Z"
    },
    "papermill": {
     "duration": 0.322216,
     "end_time": "2021-09-27T23:48:56.878205",
     "exception": false,
     "start_time": "2021-09-27T23:48:56.555989",
     "status": "completed"
    },
    "tags": []
   },
   "outputs": [
    {
     "name": "stderr",
     "output_type": "stream",
     "text": [
      "/opt/conda/lib/python3.7/site-packages/seaborn/_decorators.py:43: FutureWarning: Pass the following variables as keyword args: x, y. From version 0.12, the only valid positional argument will be `data`, and passing other arguments without an explicit keyword will result in an error or misinterpretation.\n",
      "  FutureWarning\n"
     ]
    },
    {
     "data": {
      "image/png": "[encoded data removed]",
      "text/plain": [
       "<Figure size 432x288 with 1 Axes>"
      ]
     },
     "metadata": {},
     "output_type": "display_data"
    }
   ],
   "source": [
    "sns.barplot('Sex', 'Survived', data=titanic_df, color=\"aquamarine\")\n",
    "plt.show()"
   ]
  },
  {
   "cell_type": "markdown",
   "id": "ac5f8a28",
   "metadata": {
    "papermill": {
     "duration": 0.062133,
     "end_time": "2021-09-27T23:48:57.002237",
     "exception": false,
     "start_time": "2021-09-27T23:48:56.940104",
     "status": "completed"
    },
    "tags": []
   },
   "source": [
    "This is a very obvious difference. Clearly being female greatly increased your chances of survival."
   ]
  },
  {
   "cell_type": "markdown",
   "id": "9e513383",
   "metadata": {
    "papermill": {
     "duration": 0.06364,
     "end_time": "2021-09-27T23:48:57.128073",
     "exception": false,
     "start_time": "2021-09-27T23:48:57.064433",
     "status": "completed"
    },
    "tags": []
   },
   "source": [
    "# 4. The Model\n",
    "### Preparing the data"
   ]
  },
  {
   "cell_type": "code",
   "execution_count": 32,
   "id": "c28cb2dc",
   "metadata": {
    "execution": {
     "iopub.execute_input": "2021-09-27T23:48:57.257543Z",
     "iopub.status.busy": "2021-09-27T23:48:57.256580Z",
     "iopub.status.idle": "2021-09-27T23:48:57.273214Z",
     "shell.execute_reply": "2021-09-27T23:48:57.272640Z",
     "shell.execute_reply.started": "2021-09-27T23:34:42.945492Z"
    },
    "papermill": {
     "duration": 0.082591,
     "end_time": "2021-09-27T23:48:57.273340",
     "exception": false,
     "start_time": "2021-09-27T23:48:57.190749",
     "status": "completed"
    },
    "tags": []
   },
   "outputs": [
    {
     "data": {
      "text/html": [
       "<div>\n",
       "<style scoped>\n",
       "    .dataframe tbody tr th:only-of-type {\n",
       "        vertical-align: middle;\n",
       "    }\n",
       "\n",
       "    .dataframe tbody tr th {\n",
       "        vertical-align: top;\n",
       "    }\n",
       "\n",
       "    .dataframe thead th {\n",
       "        text-align: right;\n",
       "    }\n",
       "</style>\n",
       "<table border=\"1\" class=\"dataframe\">\n",
       "  <thead>\n",
       "    <tr style=\"text-align: right;\">\n",
       "      <th></th>\n",
       "      <th>Survived</th>\n",
       "      <th>Age</th>\n",
       "      <th>Fare</th>\n",
       "      <th>TravelAlone</th>\n",
       "      <th>Pclass_1</th>\n",
       "      <th>Pclass_2</th>\n",
       "      <th>Pclass_3</th>\n",
       "      <th>Sex_male</th>\n",
       "      <th>Embarked_C</th>\n",
       "      <th>Embarked_Q</th>\n",
       "      <th>Embarked_S</th>\n",
       "      <th>IsMinor</th>\n",
       "    </tr>\n",
       "    <tr>\n",
       "      <th>PassengerId</th>\n",
       "      <th></th>\n",
       "      <th></th>\n",
       "      <th></th>\n",
       "      <th></th>\n",
       "      <th></th>\n",
       "      <th></th>\n",
       "      <th></th>\n",
       "      <th></th>\n",
       "      <th></th>\n",
       "      <th></th>\n",
       "      <th></th>\n",
       "      <th></th>\n",
       "    </tr>\n",
       "  </thead>\n",
       "  <tbody>\n",
       "    <tr>\n",
       "      <th>1</th>\n",
       "      <td>0</td>\n",
       "      <td>22.0</td>\n",
       "      <td>7.2500</td>\n",
       "      <td>0</td>\n",
       "      <td>0</td>\n",
       "      <td>0</td>\n",
       "      <td>1</td>\n",
       "      <td>1</td>\n",
       "      <td>0</td>\n",
       "      <td>0</td>\n",
       "      <td>1</td>\n",
       "      <td>0</td>\n",
       "    </tr>\n",
       "    <tr>\n",
       "      <th>2</th>\n",
       "      <td>1</td>\n",
       "      <td>38.0</td>\n",
       "      <td>71.2833</td>\n",
       "      <td>0</td>\n",
       "      <td>1</td>\n",
       "      <td>0</td>\n",
       "      <td>0</td>\n",
       "      <td>0</td>\n",
       "      <td>1</td>\n",
       "      <td>0</td>\n",
       "      <td>0</td>\n",
       "      <td>0</td>\n",
       "    </tr>\n",
       "    <tr>\n",
       "      <th>3</th>\n",
       "      <td>1</td>\n",
       "      <td>26.0</td>\n",
       "      <td>7.9250</td>\n",
       "      <td>1</td>\n",
       "      <td>0</td>\n",
       "      <td>0</td>\n",
       "      <td>1</td>\n",
       "      <td>0</td>\n",
       "      <td>0</td>\n",
       "      <td>0</td>\n",
       "      <td>1</td>\n",
       "      <td>0</td>\n",
       "    </tr>\n",
       "    <tr>\n",
       "      <th>4</th>\n",
       "      <td>1</td>\n",
       "      <td>35.0</td>\n",
       "      <td>53.1000</td>\n",
       "      <td>0</td>\n",
       "      <td>1</td>\n",
       "      <td>0</td>\n",
       "      <td>0</td>\n",
       "      <td>0</td>\n",
       "      <td>0</td>\n",
       "      <td>0</td>\n",
       "      <td>1</td>\n",
       "      <td>0</td>\n",
       "    </tr>\n",
       "    <tr>\n",
       "      <th>5</th>\n",
       "      <td>0</td>\n",
       "      <td>35.0</td>\n",
       "      <td>8.0500</td>\n",
       "      <td>1</td>\n",
       "      <td>0</td>\n",
       "      <td>0</td>\n",
       "      <td>1</td>\n",
       "      <td>1</td>\n",
       "      <td>0</td>\n",
       "      <td>0</td>\n",
       "      <td>1</td>\n",
       "      <td>0</td>\n",
       "    </tr>\n",
       "    <tr>\n",
       "      <th>6</th>\n",
       "      <td>0</td>\n",
       "      <td>28.0</td>\n",
       "      <td>8.4583</td>\n",
       "      <td>1</td>\n",
       "      <td>0</td>\n",
       "      <td>0</td>\n",
       "      <td>1</td>\n",
       "      <td>1</td>\n",
       "      <td>0</td>\n",
       "      <td>1</td>\n",
       "      <td>0</td>\n",
       "      <td>0</td>\n",
       "    </tr>\n",
       "    <tr>\n",
       "      <th>7</th>\n",
       "      <td>0</td>\n",
       "      <td>54.0</td>\n",
       "      <td>51.8625</td>\n",
       "      <td>1</td>\n",
       "      <td>1</td>\n",
       "      <td>0</td>\n",
       "      <td>0</td>\n",
       "      <td>1</td>\n",
       "      <td>0</td>\n",
       "      <td>0</td>\n",
       "      <td>1</td>\n",
       "      <td>0</td>\n",
       "    </tr>\n",
       "    <tr>\n",
       "      <th>8</th>\n",
       "      <td>0</td>\n",
       "      <td>2.0</td>\n",
       "      <td>21.0750</td>\n",
       "      <td>0</td>\n",
       "      <td>0</td>\n",
       "      <td>0</td>\n",
       "      <td>1</td>\n",
       "      <td>1</td>\n",
       "      <td>0</td>\n",
       "      <td>0</td>\n",
       "      <td>1</td>\n",
       "      <td>1</td>\n",
       "    </tr>\n",
       "    <tr>\n",
       "      <th>9</th>\n",
       "      <td>1</td>\n",
       "      <td>27.0</td>\n",
       "      <td>11.1333</td>\n",
       "      <td>0</td>\n",
       "      <td>0</td>\n",
       "      <td>0</td>\n",
       "      <td>1</td>\n",
       "      <td>0</td>\n",
       "      <td>0</td>\n",
       "      <td>0</td>\n",
       "      <td>1</td>\n",
       "      <td>0</td>\n",
       "    </tr>\n",
       "    <tr>\n",
       "      <th>10</th>\n",
       "      <td>1</td>\n",
       "      <td>14.0</td>\n",
       "      <td>30.0708</td>\n",
       "      <td>0</td>\n",
       "      <td>0</td>\n",
       "      <td>1</td>\n",
       "      <td>0</td>\n",
       "      <td>0</td>\n",
       "      <td>1</td>\n",
       "      <td>0</td>\n",
       "      <td>0</td>\n",
       "      <td>1</td>\n",
       "    </tr>\n",
       "  </tbody>\n",
       "</table>\n",
       "</div>"
      ],
      "text/plain": [
       "             Survived   Age     Fare  TravelAlone  Pclass_1  Pclass_2  \\\n",
       "PassengerId                                                             \n",
       "1                   0  22.0   7.2500            0         0         0   \n",
       "2                   1  38.0  71.2833            0         1         0   \n",
       "3                   1  26.0   7.9250            1         0         0   \n",
       "4                   1  35.0  53.1000            0         1         0   \n",
       "5                   0  35.0   8.0500            1         0         0   \n",
       "6                   0  28.0   8.4583            1         0         0   \n",
       "7                   0  54.0  51.8625            1         1         0   \n",
       "8                   0   2.0  21.0750            0         0         0   \n",
       "9                   1  27.0  11.1333            0         0         0   \n",
       "10                  1  14.0  30.0708            0         0         1   \n",
       "\n",
       "             Pclass_3  Sex_male  Embarked_C  Embarked_Q  Embarked_S  IsMinor  \n",
       "PassengerId                                                                   \n",
       "1                   1         1           0           0           1        0  \n",
       "2                   0         0           1           0           0        0  \n",
       "3                   1         0           0           0           1        0  \n",
       "4                   0         0           0           0           1        0  \n",
       "5                   1         1           0           0           1        0  \n",
       "6                   1         1           0           1           0        0  \n",
       "7                   0         1           0           0           1        0  \n",
       "8                   1         1           0           0           1        1  \n",
       "9                   1         0           0           0           1        0  \n",
       "10                  0         0           1           0           0        1  "
      ]
     },
     "execution_count": 32,
     "metadata": {},
     "output_type": "execute_result"
    }
   ],
   "source": [
    "final_train.head(10)"
   ]
  },
  {
   "cell_type": "code",
   "execution_count": 33,
   "id": "9eb31957",
   "metadata": {
    "execution": {
     "iopub.execute_input": "2021-09-27T23:48:57.406246Z",
     "iopub.status.busy": "2021-09-27T23:48:57.405217Z",
     "iopub.status.idle": "2021-09-27T23:48:57.411163Z",
     "shell.execute_reply": "2021-09-27T23:48:57.410649Z",
     "shell.execute_reply.started": "2021-09-27T23:41:24.527546Z"
    },
    "papermill": {
     "duration": 0.074629,
     "end_time": "2021-09-27T23:48:57.411305",
     "exception": false,
     "start_time": "2021-09-27T23:48:57.336676",
     "status": "completed"
    },
    "tags": []
   },
   "outputs": [],
   "source": [
    "features = [\"Age\", \"Pclass_1\", \"Pclass_2\",\"Embarked_C\",\"Embarked_S\",\"Sex_male\", \"Pclass_3\", \"Embarked_Q\", \"TravelAlone\", \"Fare\", \"IsMinor\"]\n",
    "\n",
    "X = final_train[features]\n",
    "y = final_train['Survived']\n",
    "Xtest = final_test[features]\n"
   ]
  },
  {
   "cell_type": "markdown",
   "id": "25db1735",
   "metadata": {
    "papermill": {
     "duration": 0.062854,
     "end_time": "2021-09-27T23:48:57.537655",
     "exception": false,
     "start_time": "2021-09-27T23:48:57.474801",
     "status": "completed"
    },
    "tags": []
   },
   "source": [
    "## 4.1 Model Evaluation"
   ]
  },
  {
   "cell_type": "code",
   "execution_count": 34,
   "id": "4cfc17a8",
   "metadata": {
    "execution": {
     "iopub.execute_input": "2021-09-27T23:48:57.667803Z",
     "iopub.status.busy": "2021-09-27T23:48:57.667137Z",
     "iopub.status.idle": "2021-09-27T23:48:57.805230Z",
     "shell.execute_reply": "2021-09-27T23:48:57.804613Z",
     "shell.execute_reply.started": "2021-09-27T23:46:27.445827Z"
    },
    "papermill": {
     "duration": 0.204348,
     "end_time": "2021-09-27T23:48:57.805364",
     "exception": false,
     "start_time": "2021-09-27T23:48:57.601016",
     "status": "completed"
    },
    "tags": []
   },
   "outputs": [
    {
     "data": {
      "text/plain": [
       "LogisticRegression(solver='liblinear')"
      ]
     },
     "execution_count": 34,
     "metadata": {},
     "output_type": "execute_result"
    }
   ],
   "source": [
    "from sklearn.linear_model import LogisticRegression\n",
    "from sklearn.model_selection import train_test_split\n",
    "train, val = train_test_split(final_train, test_size=0.2, random_state=1)\n",
    "\n",
    "Xtrain = train[features]\n",
    "ytrain = train['Survived']\n",
    "Xval = val[features]\n",
    "yval = val['Survived']\n",
    "model = LogisticRegression(solver='liblinear')\n",
    "model.fit(Xtrain, ytrain)"
   ]
  },
  {
   "cell_type": "code",
   "execution_count": 35,
   "id": "6cb5579a",
   "metadata": {
    "execution": {
     "iopub.execute_input": "2021-09-27T23:48:57.938705Z",
     "iopub.status.busy": "2021-09-27T23:48:57.938072Z",
     "iopub.status.idle": "2021-09-27T23:48:57.939962Z",
     "shell.execute_reply": "2021-09-27T23:48:57.940508Z",
     "shell.execute_reply.started": "2021-09-27T23:46:28.482370Z"
    },
    "papermill": {
     "duration": 0.071905,
     "end_time": "2021-09-27T23:48:57.940687",
     "exception": false,
     "start_time": "2021-09-27T23:48:57.868782",
     "status": "completed"
    },
    "tags": []
   },
   "outputs": [],
   "source": [
    "#prediction\n",
    "pred_val = model.predict(Xval)\n",
    "# print(pred_val)"
   ]
  },
  {
   "cell_type": "code",
   "execution_count": 36,
   "id": "d0f94fe5",
   "metadata": {
    "execution": {
     "iopub.execute_input": "2021-09-27T23:48:58.072347Z",
     "iopub.status.busy": "2021-09-27T23:48:58.069962Z",
     "iopub.status.idle": "2021-09-27T23:48:58.075031Z",
     "shell.execute_reply": "2021-09-27T23:48:58.075992Z",
     "shell.execute_reply.started": "2021-09-27T23:46:29.592425Z"
    },
    "papermill": {
     "duration": 0.07324,
     "end_time": "2021-09-27T23:48:58.076275",
     "exception": false,
     "start_time": "2021-09-27T23:48:58.003035",
     "status": "completed"
    },
    "tags": []
   },
   "outputs": [
    {
     "name": "stdout",
     "output_type": "stream",
     "text": [
      "0.22905027932960895\n"
     ]
    }
   ],
   "source": [
    "from sklearn.metrics import mean_absolute_error\n",
    "val_mae = mean_absolute_error(pred_val, yval)\n",
    "print(val_mae)"
   ]
  },
  {
   "cell_type": "markdown",
   "id": "a3fd77f1",
   "metadata": {
    "papermill": {
     "duration": 0.06562,
     "end_time": "2021-09-27T23:48:58.208056",
     "exception": false,
     "start_time": "2021-09-27T23:48:58.142436",
     "status": "completed"
    },
    "tags": []
   },
   "source": [
    "## 4.1.1 Another Metric"
   ]
  },
  {
   "cell_type": "code",
   "execution_count": 37,
   "id": "0f5e6304",
   "metadata": {
    "execution": {
     "iopub.execute_input": "2021-09-27T23:48:58.344790Z",
     "iopub.status.busy": "2021-09-27T23:48:58.343763Z",
     "iopub.status.idle": "2021-09-27T23:48:58.420438Z",
     "shell.execute_reply": "2021-09-27T23:48:58.419194Z",
     "shell.execute_reply.started": "2021-09-27T23:46:40.776932Z"
    },
    "papermill": {
     "duration": 0.147925,
     "end_time": "2021-09-27T23:48:58.420588",
     "exception": false,
     "start_time": "2021-09-27T23:48:58.272663",
     "status": "completed"
    },
    "tags": []
   },
   "outputs": [
    {
     "name": "stdout",
     "output_type": "stream",
     "text": [
      "MAE scores:\n",
      " [0.23463687 0.17977528 0.20786517 0.2247191  0.16853933]\n",
      "[0.76536313 0.82022472 0.79213483 0.7752809  0.83146067]\n",
      "Average MAE score (across experiments): 0.20310714958257486\n",
      "Average Accuracy score (across experiments): 0.7968928504174253\n"
     ]
    }
   ],
   "source": [
    "from sklearn.model_selection import cross_val_score\n",
    "scores = -1 * cross_val_score(model, X, y,\n",
    "                              cv=5,\n",
    "                              scoring='neg_mean_absolute_error')\n",
    "\n",
    "print(\"MAE scores:\\n\", scores)\n",
    "\n",
    "cv_scores = cross_val_score(model, X, y, \n",
    "                            cv=5,\n",
    "                            scoring='accuracy')\n",
    "print(cv_scores)\n",
    "\n",
    "print(\"Average MAE score (across experiments):\", scores.mean())\n",
    "print(\"Average Accuracy score (across experiments):\", cv_scores.mean())"
   ]
  },
  {
   "cell_type": "markdown",
   "id": "f2273be6",
   "metadata": {
    "papermill": {
     "duration": 0.065,
     "end_time": "2021-09-27T23:48:58.550172",
     "exception": false,
     "start_time": "2021-09-27T23:48:58.485172",
     "status": "completed"
    },
    "tags": []
   },
   "source": [
    "#### I think this output MAE is good, now let's build our model, and test using test data\n",
    "# Let's Apply our final Model"
   ]
  },
  {
   "cell_type": "code",
   "execution_count": 38,
   "id": "87c88b39",
   "metadata": {
    "execution": {
     "iopub.execute_input": "2021-09-27T23:48:58.689066Z",
     "iopub.status.busy": "2021-09-27T23:48:58.688118Z",
     "iopub.status.idle": "2021-09-27T23:48:58.699429Z",
     "shell.execute_reply": "2021-09-27T23:48:58.698919Z",
     "shell.execute_reply.started": "2021-09-27T23:47:59.134883Z"
    },
    "papermill": {
     "duration": 0.084552,
     "end_time": "2021-09-27T23:48:58.699579",
     "exception": false,
     "start_time": "2021-09-27T23:48:58.615027",
     "status": "completed"
    },
    "tags": []
   },
   "outputs": [
    {
     "name": "stdout",
     "output_type": "stream",
     "text": [
      "Your submission was successfully saved!\n"
     ]
    }
   ],
   "source": [
    "model = LogisticRegression(solver='liblinear')\n",
    "model.fit(X, y)\n",
    "predictions = model.predict(Xtest)\n",
    "output = pd.DataFrame({\"PassengerId\": final_test.index,\n",
    "                      \"Survived\": predictions})\n",
    "\n",
    "output.head()\n",
    "output.to_csv('submission.csv', index=False)\n",
    "print(\"Your submission was successfully saved!\")\n"
   ]
  },
  {
   "cell_type": "code",
   "execution_count": null,
   "id": "2427ce35",
   "metadata": {
    "papermill": {
     "duration": 0.06462,
     "end_time": "2021-09-27T23:48:58.828610",
     "exception": false,
     "start_time": "2021-09-27T23:48:58.763990",
     "status": "completed"
    },
    "tags": []
   },
   "outputs": [],
   "source": []
  }
 ],
 "metadata": {
  "kernelspec": {
   "display_name": "Python 3",
   "language": "python",
   "name": "python3"
  },
  "language_info": {
   "codemirror_mode": {
    "name": "ipython",
    "version": 3
   },
   "file_extension": ".py",
   "mimetype": "text/x-python",
   "name": "python",
   "nbconvert_exporter": "python",
   "pygments_lexer": "ipython3",
   "version": "3.7.10"
  },
  "papermill": {
   "default_parameters": {},
   "duration": 23.793052,
   "end_time": "2021-09-27T23:48:59.603686",
   "environment_variables": {},
   "exception": null,
   "input_path": "__notebook__.ipynb",
   "output_path": "__notebook__.ipynb",
   "parameters": {},
   "start_time": "2021-09-27T23:48:35.810634",
   "version": "2.3.3"
  }
 },
 "nbformat": 4,
 "nbformat_minor": 5
}
